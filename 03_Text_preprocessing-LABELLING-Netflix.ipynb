{
 "cells": [
  {
   "cell_type": "markdown",
   "metadata": {},
   "source": [
    "### 10-30-2020\n",
    "\n",
    "\n",
    "# TWEETINSIGHTS - PART 3 - SENTIMENT ANALYSIS\n",
    "\n",
    "### ALEX MAZZARELLA"
   ]
  },
  {
   "cell_type": "markdown",
   "metadata": {},
   "source": [
    "### DATA SCIENCE full time course - BrainStation\n",
    "### CAPSTONE PROJECT"
   ]
  },
  {
   "cell_type": "markdown",
   "metadata": {},
   "source": [
    "# ============================================================="
   ]
  },
  {
   "cell_type": "markdown",
   "metadata": {},
   "source": [
    "In this notebook, we will run a sentiment analysis over our text data, the tweets of the users!\n",
    "\n",
    "The target is to get an idea about the brand perception of the Twitter users that mention or reply to a tweet involving our brand (Netflix), \n",
    "\n",
    "As the tweets pulled from the API don't have a sentiment label (positive/neutral/negative), we have two options to proceed:\n",
    "\n",
    "* manually label a sample of tweets, the train and test a model to get sentiment (polarity) scores of all the dataset\n",
    "* use a pre-trained model, to directly assign a polarity to each document (tweet)\n",
    "\n",
    "Due to the time constraint, and keeping in mind the scope of the project (which is to deliver by the deadline a fully functional product that analyzes the sentiment of hte tweets and extracts meaningful topics), we will proceed now with the second option."
   ]
  },
  {
   "cell_type": "code",
   "execution_count": 1,
   "metadata": {},
   "outputs": [],
   "source": [
    "import pandas as pd\n",
    "import numpy as np\n",
    "from datetime import datetime\n",
    "from textblob import TextBlob\n",
    "from nltk.sentiment.vader import SentimentIntensityAnalyzer\n",
    "\n",
    "import matplotlib.pyplot as plt\n",
    "\n",
    "import nltk\n",
    "# nltk.download('wordnet', 'vader_lexicon')\n",
    "\n",
    "# from string import punctuation\n"
   ]
  },
  {
   "cell_type": "code",
   "execution_count": 2,
   "metadata": {},
   "outputs": [],
   "source": [
    "# loading in a dataframe cleaned dataset\n",
    "df_net = pd.read_csv('master_tweets/clean_netflix/clean_netflix.csv')"
   ]
  },
  {
   "cell_type": "code",
   "execution_count": 3,
   "metadata": {
    "scrolled": true
   },
   "outputs": [
    {
     "data": {
      "text/html": [
       "<div>\n",
       "<style scoped>\n",
       "    .dataframe tbody tr th:only-of-type {\n",
       "        vertical-align: middle;\n",
       "    }\n",
       "\n",
       "    .dataframe tbody tr th {\n",
       "        vertical-align: top;\n",
       "    }\n",
       "\n",
       "    .dataframe thead th {\n",
       "        text-align: right;\n",
       "    }\n",
       "</style>\n",
       "<table border=\"1\" class=\"dataframe\">\n",
       "  <thead>\n",
       "    <tr style=\"text-align: right;\">\n",
       "      <th></th>\n",
       "      <th>created_at</th>\n",
       "      <th>followers_count</th>\n",
       "      <th>friends_count</th>\n",
       "      <th>handle</th>\n",
       "      <th>hashtags</th>\n",
       "      <th>retweet</th>\n",
       "      <th>tweet</th>\n",
       "      <th>tweet_id</th>\n",
       "      <th>user_mentions</th>\n",
       "    </tr>\n",
       "  </thead>\n",
       "  <tbody>\n",
       "    <tr>\n",
       "      <th>0</th>\n",
       "      <td>2020-09-26 15:01:29+00:00</td>\n",
       "      <td>327</td>\n",
       "      <td>570</td>\n",
       "      <td>kaseydrzazga</td>\n",
       "      <td>[]</td>\n",
       "      <td>0</td>\n",
       "      <td>@Spacefunmars @RyanPGoldchains Ahem, @netflix ...</td>\n",
       "      <td>1309870714116337664</td>\n",
       "      <td>[{'screen_name': 'Spacefunmars', 'name': 'The ...</td>\n",
       "    </tr>\n",
       "    <tr>\n",
       "      <th>1</th>\n",
       "      <td>2020-09-26 15:01:28+00:00</td>\n",
       "      <td>496</td>\n",
       "      <td>294</td>\n",
       "      <td>PlainPotatoTay</td>\n",
       "      <td>[]</td>\n",
       "      <td>0</td>\n",
       "      <td>@charityfaith @netflix @HunterMarch You gotta ...</td>\n",
       "      <td>1309870713441005568</td>\n",
       "      <td>[{'screen_name': 'charityfaith', 'name': 'Char...</td>\n",
       "    </tr>\n",
       "    <tr>\n",
       "      <th>2</th>\n",
       "      <td>2020-09-26 15:01:28+00:00</td>\n",
       "      <td>3</td>\n",
       "      <td>13</td>\n",
       "      <td>dsLdHzRDPbkII4p</td>\n",
       "      <td>[]</td>\n",
       "      <td>1</td>\n",
       "      <td>Episodes 13 &amp;amp; 14 of \"ARASHI's Diary -Voyag...</td>\n",
       "      <td>1309870711943487488</td>\n",
       "      <td>[{'screen_name': 'arashi5official', 'name': 'A...</td>\n",
       "    </tr>\n",
       "  </tbody>\n",
       "</table>\n",
       "</div>"
      ],
      "text/plain": [
       "                  created_at  followers_count  friends_count           handle  \\\n",
       "0  2020-09-26 15:01:29+00:00              327            570     kaseydrzazga   \n",
       "1  2020-09-26 15:01:28+00:00              496            294   PlainPotatoTay   \n",
       "2  2020-09-26 15:01:28+00:00                3             13  dsLdHzRDPbkII4p   \n",
       "\n",
       "  hashtags  retweet                                              tweet  \\\n",
       "0       []        0  @Spacefunmars @RyanPGoldchains Ahem, @netflix ...   \n",
       "1       []        0  @charityfaith @netflix @HunterMarch You gotta ...   \n",
       "2       []        1  Episodes 13 &amp; 14 of \"ARASHI's Diary -Voyag...   \n",
       "\n",
       "              tweet_id                                      user_mentions  \n",
       "0  1309870714116337664  [{'screen_name': 'Spacefunmars', 'name': 'The ...  \n",
       "1  1309870713441005568  [{'screen_name': 'charityfaith', 'name': 'Char...  \n",
       "2  1309870711943487488  [{'screen_name': 'arashi5official', 'name': 'A...  "
      ]
     },
     "execution_count": 3,
     "metadata": {},
     "output_type": "execute_result"
    }
   ],
   "source": [
    "df_net.head(3)"
   ]
  },
  {
   "cell_type": "markdown",
   "metadata": {},
   "source": [
    "## Labelling tweets"
   ]
  },
  {
   "cell_type": "markdown",
   "metadata": {},
   "source": [
    "In order to assign a sentiment label to our tweets, I will use 2 pre-trained models, TextBlob and Vader (from NLTK).\n",
    "\n",
    "The models return a polarity score (they also return other parameters, but we will focus on polarity for now).\n",
    "Polarity score ranges from -1 for the most negative to 1 for the most positive, with 0 being neutral.\n",
    "\n",
    "We will then assign the labels:\n",
    "* -1 for a negative tweet (if the polarity score is < 0 )\n",
    "*  0 for a neutral tweet (if the polarity score is = 0 )\n",
    "* 1 for a positive tweet (if the polarity score is > 0 )\n",
    "\n",
    "Note: during my analysis I tested several conditional statements, to test score thresholds that would make the most sense. \n",
    "(For example, do we consider a tweet positive when the score is above 0.5? or 0.333? or above 0?)\n",
    "This is because by searching on Google what would have been the most effective one, I found discordant opinions.\n",
    "Unfortunately I have been overwriting my tests, which is something I will not do in the future anymore.\n",
    "\n",
    "Further down in the notebook I have added a consideration on why I think that the thresholds mentioned above seem to make the most sense.\n"
   ]
  },
  {
   "cell_type": "markdown",
   "metadata": {},
   "source": [
    "### **TextBlob**"
   ]
  },
  {
   "cell_type": "code",
   "execution_count": 4,
   "metadata": {},
   "outputs": [
    {
     "name": "stdout",
     "output_type": "stream",
     "text": [
      "Wall time: 5.44 s\n"
     ]
    }
   ],
   "source": [
    "%%time\n",
    "# calculating polarities of tweets using TextBlob\n",
    "\n",
    "df_net[\"textblob_polarity\"] = df_net[\"tweet\"].apply(lambda text: TextBlob(text).sentiment.polarity)"
   ]
  },
  {
   "cell_type": "code",
   "execution_count": 5,
   "metadata": {},
   "outputs": [
    {
     "data": {
      "text/html": [
       "<div>\n",
       "<style scoped>\n",
       "    .dataframe tbody tr th:only-of-type {\n",
       "        vertical-align: middle;\n",
       "    }\n",
       "\n",
       "    .dataframe tbody tr th {\n",
       "        vertical-align: top;\n",
       "    }\n",
       "\n",
       "    .dataframe thead th {\n",
       "        text-align: right;\n",
       "    }\n",
       "</style>\n",
       "<table border=\"1\" class=\"dataframe\">\n",
       "  <thead>\n",
       "    <tr style=\"text-align: right;\">\n",
       "      <th></th>\n",
       "      <th>tweet</th>\n",
       "      <th>textblob_polarity</th>\n",
       "    </tr>\n",
       "  </thead>\n",
       "  <tbody>\n",
       "    <tr>\n",
       "      <th>0</th>\n",
       "      <td>@Spacefunmars @RyanPGoldchains Ahem, @netflix ...</td>\n",
       "      <td>0.000000</td>\n",
       "    </tr>\n",
       "    <tr>\n",
       "      <th>1</th>\n",
       "      <td>@charityfaith @netflix @HunterMarch You gotta ...</td>\n",
       "      <td>0.000000</td>\n",
       "    </tr>\n",
       "    <tr>\n",
       "      <th>2</th>\n",
       "      <td>Episodes 13 &amp;amp; 14 of \"ARASHI's Diary -Voyag...</td>\n",
       "      <td>-0.250000</td>\n",
       "    </tr>\n",
       "    <tr>\n",
       "      <th>3</th>\n",
       "      <td>Good news! The version of #TheShining on @netf...</td>\n",
       "      <td>0.343750</td>\n",
       "    </tr>\n",
       "    <tr>\n",
       "      <th>4</th>\n",
       "      <td>@netflix  that would be cool if you added shrek</td>\n",
       "      <td>0.350000</td>\n",
       "    </tr>\n",
       "    <tr>\n",
       "      <th>...</th>\n",
       "      <td>...</td>\n",
       "      <td>...</td>\n",
       "    </tr>\n",
       "    <tr>\n",
       "      <th>25225</th>\n",
       "      <td>@ItsSativaBlaze @netflix Emily in la Coline du...</td>\n",
       "      <td>0.000000</td>\n",
       "    </tr>\n",
       "    <tr>\n",
       "      <th>25226</th>\n",
       "      <td>@MomoaScrunchie @DawnSenate47 @ZeeTeeAy @Tulsi...</td>\n",
       "      <td>0.433333</td>\n",
       "    </tr>\n",
       "    <tr>\n",
       "      <th>25227</th>\n",
       "      <td>@aliciakeys @SongExploder @netflix Imagine if ...</td>\n",
       "      <td>0.000000</td>\n",
       "    </tr>\n",
       "    <tr>\n",
       "      <th>25228</th>\n",
       "      <td>@PawsWinterfell @danjlevy @netflix @Netflix_CA...</td>\n",
       "      <td>0.500000</td>\n",
       "    </tr>\n",
       "    <tr>\n",
       "      <th>25229</th>\n",
       "      <td>When @jonathanmtucker meets Laura on the beach...</td>\n",
       "      <td>-1.000000</td>\n",
       "    </tr>\n",
       "  </tbody>\n",
       "</table>\n",
       "<p>25230 rows × 2 columns</p>\n",
       "</div>"
      ],
      "text/plain": [
       "                                                   tweet  textblob_polarity\n",
       "0      @Spacefunmars @RyanPGoldchains Ahem, @netflix ...           0.000000\n",
       "1      @charityfaith @netflix @HunterMarch You gotta ...           0.000000\n",
       "2      Episodes 13 &amp; 14 of \"ARASHI's Diary -Voyag...          -0.250000\n",
       "3      Good news! The version of #TheShining on @netf...           0.343750\n",
       "4        @netflix  that would be cool if you added shrek           0.350000\n",
       "...                                                  ...                ...\n",
       "25225  @ItsSativaBlaze @netflix Emily in la Coline du...           0.000000\n",
       "25226  @MomoaScrunchie @DawnSenate47 @ZeeTeeAy @Tulsi...           0.433333\n",
       "25227  @aliciakeys @SongExploder @netflix Imagine if ...           0.000000\n",
       "25228  @PawsWinterfell @danjlevy @netflix @Netflix_CA...           0.500000\n",
       "25229  When @jonathanmtucker meets Laura on the beach...          -1.000000\n",
       "\n",
       "[25230 rows x 2 columns]"
      ]
     },
     "execution_count": 5,
     "metadata": {},
     "output_type": "execute_result"
    }
   ],
   "source": [
    "df_net[[\"tweet\", \"textblob_polarity\"]]"
   ]
  },
  {
   "cell_type": "markdown",
   "metadata": {},
   "source": [
    "Great, the model scored each of our tweets. Now, to assign a label, I will write a very simple function."
   ]
  },
  {
   "cell_type": "code",
   "execution_count": 6,
   "metadata": {},
   "outputs": [],
   "source": [
    "def polarity_class(x):\n",
    "    '''\n",
    "    Used with NLP labelling models for calculating Positive, \n",
    "    Negative and Neutral class of input score.\n",
    "    Returns an integer correspondent to the class which the \n",
    "    polarity score belongs to.\n",
    "    \n",
    "    Input: polarity score (float)\n",
    "    \n",
    "    Output: int value (1 for positive, 0 for neutral, -1 for negative)\n",
    "    '''\n",
    "        \n",
    "    if x > 0:\n",
    "        return 1\n",
    "    elif x == 0: \n",
    "        return 0\n",
    "    else:\n",
    "        return -1"
   ]
  },
  {
   "cell_type": "code",
   "execution_count": 7,
   "metadata": {},
   "outputs": [
    {
     "data": {
      "text/plain": [
       " 1    12439\n",
       " 0     9105\n",
       "-1     3686\n",
       "Name: textblob_class, dtype: int64"
      ]
     },
     "execution_count": 7,
     "metadata": {},
     "output_type": "execute_result"
    }
   ],
   "source": [
    "# assigning sentiment labels to each tweet \n",
    "df_net[\"textblob_class\"] = df_net['textblob_polarity'].apply(polarity_class)\n",
    "\n",
    "# checking counts of sentiment classes\n",
    "df_net[\"textblob_class\"].value_counts()"
   ]
  },
  {
   "cell_type": "code",
   "execution_count": 8,
   "metadata": {},
   "outputs": [
    {
     "data": {
      "text/html": [
       "<div>\n",
       "<style scoped>\n",
       "    .dataframe tbody tr th:only-of-type {\n",
       "        vertical-align: middle;\n",
       "    }\n",
       "\n",
       "    .dataframe tbody tr th {\n",
       "        vertical-align: top;\n",
       "    }\n",
       "\n",
       "    .dataframe thead th {\n",
       "        text-align: right;\n",
       "    }\n",
       "</style>\n",
       "<table border=\"1\" class=\"dataframe\">\n",
       "  <thead>\n",
       "    <tr style=\"text-align: right;\">\n",
       "      <th></th>\n",
       "      <th>created_at</th>\n",
       "      <th>followers_count</th>\n",
       "      <th>friends_count</th>\n",
       "      <th>handle</th>\n",
       "      <th>hashtags</th>\n",
       "      <th>retweet</th>\n",
       "      <th>tweet</th>\n",
       "      <th>tweet_id</th>\n",
       "      <th>user_mentions</th>\n",
       "      <th>textblob_polarity</th>\n",
       "      <th>textblob_class</th>\n",
       "    </tr>\n",
       "  </thead>\n",
       "  <tbody>\n",
       "    <tr>\n",
       "      <th>0</th>\n",
       "      <td>2020-09-26 15:01:29+00:00</td>\n",
       "      <td>327</td>\n",
       "      <td>570</td>\n",
       "      <td>kaseydrzazga</td>\n",
       "      <td>[]</td>\n",
       "      <td>0</td>\n",
       "      <td>@Spacefunmars @RyanPGoldchains Ahem, @netflix ...</td>\n",
       "      <td>1309870714116337664</td>\n",
       "      <td>[{'screen_name': 'Spacefunmars', 'name': 'The ...</td>\n",
       "      <td>0.00</td>\n",
       "      <td>0</td>\n",
       "    </tr>\n",
       "    <tr>\n",
       "      <th>1</th>\n",
       "      <td>2020-09-26 15:01:28+00:00</td>\n",
       "      <td>496</td>\n",
       "      <td>294</td>\n",
       "      <td>PlainPotatoTay</td>\n",
       "      <td>[]</td>\n",
       "      <td>0</td>\n",
       "      <td>@charityfaith @netflix @HunterMarch You gotta ...</td>\n",
       "      <td>1309870713441005568</td>\n",
       "      <td>[{'screen_name': 'charityfaith', 'name': 'Char...</td>\n",
       "      <td>0.00</td>\n",
       "      <td>0</td>\n",
       "    </tr>\n",
       "    <tr>\n",
       "      <th>2</th>\n",
       "      <td>2020-09-26 15:01:28+00:00</td>\n",
       "      <td>3</td>\n",
       "      <td>13</td>\n",
       "      <td>dsLdHzRDPbkII4p</td>\n",
       "      <td>[]</td>\n",
       "      <td>1</td>\n",
       "      <td>Episodes 13 &amp;amp; 14 of \"ARASHI's Diary -Voyag...</td>\n",
       "      <td>1309870711943487488</td>\n",
       "      <td>[{'screen_name': 'arashi5official', 'name': 'A...</td>\n",
       "      <td>-0.25</td>\n",
       "      <td>-1</td>\n",
       "    </tr>\n",
       "  </tbody>\n",
       "</table>\n",
       "</div>"
      ],
      "text/plain": [
       "                  created_at  followers_count  friends_count           handle  \\\n",
       "0  2020-09-26 15:01:29+00:00              327            570     kaseydrzazga   \n",
       "1  2020-09-26 15:01:28+00:00              496            294   PlainPotatoTay   \n",
       "2  2020-09-26 15:01:28+00:00                3             13  dsLdHzRDPbkII4p   \n",
       "\n",
       "  hashtags  retweet                                              tweet  \\\n",
       "0       []        0  @Spacefunmars @RyanPGoldchains Ahem, @netflix ...   \n",
       "1       []        0  @charityfaith @netflix @HunterMarch You gotta ...   \n",
       "2       []        1  Episodes 13 &amp; 14 of \"ARASHI's Diary -Voyag...   \n",
       "\n",
       "              tweet_id                                      user_mentions  \\\n",
       "0  1309870714116337664  [{'screen_name': 'Spacefunmars', 'name': 'The ...   \n",
       "1  1309870713441005568  [{'screen_name': 'charityfaith', 'name': 'Char...   \n",
       "2  1309870711943487488  [{'screen_name': 'arashi5official', 'name': 'A...   \n",
       "\n",
       "   textblob_polarity  textblob_class  \n",
       "0               0.00               0  \n",
       "1               0.00               0  \n",
       "2              -0.25              -1  "
      ]
     },
     "execution_count": 8,
     "metadata": {},
     "output_type": "execute_result"
    }
   ],
   "source": [
    "df_net.head(3)"
   ]
  },
  {
   "cell_type": "markdown",
   "metadata": {},
   "source": [
    "Now we have sentiment scores and labels. before moving forward with considerations, let's also get the scores from Vader."
   ]
  },
  {
   "cell_type": "markdown",
   "metadata": {},
   "source": [
    "### **NLTKVader**"
   ]
  },
  {
   "cell_type": "code",
   "execution_count": 9,
   "metadata": {},
   "outputs": [
    {
     "name": "stdout",
     "output_type": "stream",
     "text": [
      "Wall time: 25 ms\n"
     ]
    }
   ],
   "source": [
    "%%time\n",
    "# initializing model\n",
    "sid = SentimentIntensityAnalyzer()"
   ]
  },
  {
   "cell_type": "code",
   "execution_count": 10,
   "metadata": {},
   "outputs": [
    {
     "name": "stdout",
     "output_type": "stream",
     "text": [
      "Wall time: 5.65 s\n"
     ]
    }
   ],
   "source": [
    "%%time\n",
    "# fitting model\n",
    "df_net[\"vader_polarity\"] = df_net[\"tweet\"].apply(lambda text: sid.polarity_scores(text)['compound'])"
   ]
  },
  {
   "cell_type": "markdown",
   "metadata": {},
   "source": [
    "The **Compound** score is a metric that calculates the sum of all the lexicon ratings which have been normalized between -1(most extreme negative) and +1 (most extreme positive).\n",
    "The SID polarity score returns several metrics, but at the moment we are taking into consideration the compound score."
   ]
  },
  {
   "cell_type": "code",
   "execution_count": 11,
   "metadata": {},
   "outputs": [],
   "source": [
    "df_net[\"vader_class\"] = df_net['vader_polarity'].apply(polarity_class)\n"
   ]
  },
  {
   "cell_type": "code",
   "execution_count": 12,
   "metadata": {},
   "outputs": [
    {
     "data": {
      "text/plain": [
       " 1    12450\n",
       " 0     7571\n",
       "-1     5209\n",
       "Name: vader_class, dtype: int64"
      ]
     },
     "execution_count": 12,
     "metadata": {},
     "output_type": "execute_result"
    }
   ],
   "source": [
    "df_net[\"vader_class\"].value_counts()"
   ]
  },
  {
   "cell_type": "markdown",
   "metadata": {},
   "source": [
    "It seems that the two model return different results in terms of which tweets are neutral or negative.\n",
    "Let's plot the results from the two models to understand better."
   ]
  },
  {
   "cell_type": "code",
   "execution_count": 13,
   "metadata": {},
   "outputs": [
    {
     "data": {
      "image/png": "[encoded data removed]",
      "text/plain": [
       "<Figure size 720x432 with 1 Axes>"
      ]
     },
     "metadata": {
      "needs_background": "light"
     },
     "output_type": "display_data"
    }
   ],
   "source": [
    "# initializing variables for the plot layouts\n",
    "\n",
    "# number of 'groups' of bars\n",
    "N = 3 \n",
    "# the x locations for the groups of bars\n",
    "ind = np.arange(N)  \n",
    "# width of bars\n",
    "width = 0.35 \n",
    "# fontsize\n",
    "fsize = 14\n",
    "\n",
    "# defining same y max value for both subplots\n",
    "max_y = max(df_net[\"vader_class\"].value_counts().values.max() *1.1,\n",
    "            df_net[\"textblob_class\"].value_counts().values.max() *1.1)\n",
    "\n",
    "plt.figure(figsize = (10,6))\n",
    "\n",
    "# plotting sentiment scores obtained with Vader model\n",
    "plt.bar(df_net[\"vader_class\"].value_counts().index, df_net[\"vader_class\"].value_counts().values,\n",
    "        -width,align = 'edge',label = 'NLTK Vader' )\n",
    "\n",
    "# plotting sentiment scores obtained with TextBlob\n",
    "plt.bar(df_net[\"textblob_class\"].value_counts().index, df_net[\"textblob_class\"].value_counts().values,\n",
    "        width,align = 'edge',color = 'red', label = 'TextBlob' )\n",
    "\n",
    "\n",
    "plt.legend()\n",
    "plt.xticks(ticks = [-1,0,1], labels = ['Negative','Neutral','Positive'],  fontsize = fsize *0.8)\n",
    "plt.yticks(fontsize = fsize *0.8)\n",
    "plt.xlabel('Type of sentiment', fontsize = fsize)\n",
    "plt.ylabel('Count of tweets', fontsize = fsize)\n",
    "plt.ylim(0,max_y)\n",
    "plt.title('Classification of tweets sentiments', fontsize = fsize*1.2)\n",
    "\n",
    "\n",
    "plt.show()"
   ]
  },
  {
   "cell_type": "markdown",
   "metadata": {},
   "source": [
    "We can see that the two models have some disagreement on the negative and neutral classes, but are quite aligned on the positive.\n",
    "\n",
    "However, from what we observe, about ~50% of the tweets around our brand are positive!\n",
    "\n",
    "Let's remember for a moment on how the sentiment classes have been assigned, based on the polarity scores:\n",
    "* if score > 0 --> positive\n",
    "* if score = 0 --> neutral\n",
    "* if score > 0 --> negative\n",
    "\n",
    "As anticipated, I chose those classes thresholds.\n",
    "Because of that, what I would like to check is if the results of such conditional statement give us a fair representation of the original data (the float polarity score).\n",
    "\n",
    "To do so, I will plot the polarity scores, resulted from both models, in a histogram."
   ]
  },
  {
   "cell_type": "code",
   "execution_count": 40,
   "metadata": {
    "scrolled": false
   },
   "outputs": [
    {
     "data": {
      "image/png": "[encoded data removed]",
      "text/plain": [
       "<Figure size 864x432 with 1 Axes>"
      ]
     },
     "metadata": {
      "needs_background": "light"
     },
     "output_type": "display_data"
    }
   ],
   "source": [
    "# plotting histogram with polarity scores - Vader and textblob\n",
    "fsize = 12\n",
    "\n",
    "plt.figure(figsize = (12,6))\n",
    "plt.hist(df_net[\"vader_polarity\"], alpha = 0.9, label = 'NLTK Vader')\n",
    "plt.hist(df_net[\"textblob_polarity\"], alpha = 0.7, color = 'red', label = 'Textblob')\n",
    "plt.legend(fontsize = fsize*.9)\n",
    "plt.ylabel('Tweets counts', fontsize = fsize)\n",
    "plt.xlabel('Polarity score of tweet', fontsize = fsize)\n",
    "plt.title('Distribution of tweet sentiments polarity scores', fontsize = fsize*1.2)\n",
    "plt.show()"
   ]
  },
  {
   "cell_type": "markdown",
   "metadata": {},
   "source": [
    "Looking at the histogram above, it appears that:\n",
    "\n",
    "* more tweets have received a negative polarity score with Vader rather than with Textblob.\n",
    "\n",
    "* positive scores seems quite balanced: Vader assigned more high positive scores ( > +0.75) and Textblob lower positive scores.\n",
    "\n",
    "For both models, the highest frequencies of scores are those around the zero. That includes not only the neutral sentiments (score 0) but also the 'slightly' positive and negatives, with a polarity score close to zero.\n",
    "\n",
    "That said, I would assume that the conditional statement used to assign each polarity score to the different classes of sentiment (positive, negative, neutral) is a fairly representing the distribution of scores. "
   ]
  },
  {
   "cell_type": "markdown",
   "metadata": {},
   "source": [
    "As mentioned, both models returned similar overall scores for the positive tweets, with some differences in the other two classes.\n",
    "If we had to pick one, observing the histogram above, I would choose TexBlob, based on the fact that the distribution of the scores seems vaguely more close to a normalized (left skewed with a very tight bell) than the one given by Vader. \n",
    "However, for the next step that we will take in this analysis, this might not be extremely relevant."
   ]
  },
  {
   "cell_type": "code",
   "execution_count": 15,
   "metadata": {},
   "outputs": [
    {
     "data": {
      "text/plain": [
       " 1    49.30\n",
       " 0    36.09\n",
       "-1    14.61\n",
       "Name: textblob_class, dtype: float64"
      ]
     },
     "execution_count": 15,
     "metadata": {},
     "output_type": "execute_result"
    }
   ],
   "source": [
    "# distribution percentages of polarity scores returned from TextBlob\n",
    "round(df_net['textblob_class'].value_counts() / df_net.shape[0] *100, 2)"
   ]
  },
  {
   "cell_type": "code",
   "execution_count": 16,
   "metadata": {},
   "outputs": [
    {
     "data": {
      "image/png": "[encoded data removed]",
      "text/plain": [
       "<Figure size 864x432 with 1 Axes>"
      ]
     },
     "metadata": {
      "needs_background": "light"
     },
     "output_type": "display_data"
    }
   ],
   "source": [
    "####### visualization of polarity scores distribution from TextBlob\n",
    "\n",
    "\n",
    "# plotting histogram with polarity scores - Vader and textblob\n",
    "\n",
    "# setting fontsize for labels and title\n",
    "fsize = 14\n",
    "\n",
    "plt.figure(figsize = (12,6))\n",
    "plt.hist(df_net[\"textblob_polarity\"], alpha = 0.7, color = 'deepskyblue', label = 'Users sentiment score')\n",
    "\n",
    "plt.legend(fontsize = fsize*.9)\n",
    "\n",
    "plt.ylabel('Tweets counts', fontsize = fsize)\n",
    "plt.xlabel('Polarity score of tweet', fontsize = fsize)\n",
    "\n",
    "plt.title('Distribution of users sentiment polarity scores', fontsize = fsize*1.4)\n",
    "\n",
    "plt.xticks(fontsize = fsize)\n",
    "plt.yticks(fontsize = fsize)\n",
    "\n",
    "plt.show()"
   ]
  },
  {
   "cell_type": "markdown",
   "metadata": {},
   "source": [
    "### Checking sentiment over time"
   ]
  },
  {
   "cell_type": "markdown",
   "metadata": {},
   "source": [
    "Let's take one more step in our analysis to check if and how the average sentiment changes over time.\n",
    "\n",
    "We will calculate a moving average and plot it.\n",
    "\n",
    "As a reminder, we are using the polarity scores returned by TextBlob."
   ]
  },
  {
   "cell_type": "code",
   "execution_count": 17,
   "metadata": {},
   "outputs": [],
   "source": [
    "# convert created_at to date time\n",
    "df_net['created_at'] = pd.to_datetime(df_net['created_at']) "
   ]
  },
  {
   "cell_type": "code",
   "execution_count": 18,
   "metadata": {},
   "outputs": [],
   "source": [
    "# calculating moving averages of TextBlob polarity scores\n",
    "\n",
    "# creating array with dates\n",
    "dates = np.array(df_net['created_at'])\n",
    "# initializing array of indexes for sorted dates\n",
    "indexes = np.argsort(dates)\n",
    "# setting window of number of tweets per moving average\n",
    "window = 1000\n",
    "# setting dates to plot, starting with offset equal to window \n",
    "dates = dates[indexes][window:]\n",
    "# the polarity scores \n",
    "values = np.array(df_net['textblob_polarity'])[indexes]\n",
    "windows = pd.Series(values).rolling(window)\n",
    "# calculating moving averages (offset = to window size)\n",
    "mov_avgs = windows.mean()[window:]"
   ]
  },
  {
   "cell_type": "code",
   "execution_count": 19,
   "metadata": {
    "scrolled": false
   },
   "outputs": [
    {
     "data": {
      "image/png": "[encoded data removed]",
      "text/plain": [
       "<Figure size 936x504 with 1 Axes>"
      ]
     },
     "metadata": {
      "needs_background": "light"
     },
     "output_type": "display_data"
    },
    {
     "name": "stdout",
     "output_type": "stream",
     "text": [
      "Wall time: 494 ms\n"
     ]
    }
   ],
   "source": [
    "%%time\n",
    "\n",
    "# fontsize for labels, legend, ticks and title\n",
    "fsize = 14\n",
    "\n",
    "# plotting the moving average\n",
    "plt.figure(figsize=(13,7))\n",
    "plt.plot(dates, mov_avgs, color='deepskyblue', label='Moving average of users sentiment', lw = 0.8)\n",
    "\n",
    "# plt.axhline(y = df_net['textblob_polarity'].mean(), color = 'gold', label = 'Overall average sentiment')\n",
    "plt.legend(fontsize = fsize*0.8)\n",
    "\n",
    "plt.ylabel('Polarity Score', fontsize = fsize)\n",
    "plt.xlabel('Dates', fontsize = fsize)\n",
    "\n",
    "plt.title('Overall a positive sentiment in average, with a couple significant drops.', fontsize = fsize*1.4)\n",
    "\n",
    "plt.xticks(fontsize = fsize*0.8)\n",
    "plt.yticks(fontsize = fsize*0.8)\n",
    "\n",
    "plt.show()"
   ]
  },
  {
   "cell_type": "code",
   "execution_count": 20,
   "metadata": {},
   "outputs": [],
   "source": [
    "df_net.to_csv('tableau_visualizations/data/tweets_w_sentiment.csv', index = False)"
   ]
  },
  {
   "cell_type": "markdown",
   "metadata": {},
   "source": [
    "**Considerations**\n",
    "\n",
    "* The overall average sentiment has been positive during the whole data observation period. \n",
    "\n",
    "* We noticed a couple significant drops on Sep 27 and October 2. It is recommendable to investigate what are the potential reasons for that. For example, from a quick search, we found that on September 27, Fox Turkey announced the cancellation of the series 'Bay Yanlis'. We will see later in the analysis that this has been also a very hot topic in that period.\n",
    "\n",
    "* Cross matching the periods of sentiment drop with events or announcements, might give precious insights about preferences and interests of the followers, and help for current and future decisions.\n",
    "\n",
    "* Let's also keep in mind that to represent the changes over time, the y axis in the plot above ranges from 0.09 to 0.18. It means that all the average scores represented are within a 0.9 range. That is to say, small fluctuations of 0.01 might visually appear more relevant thatn they actually are.\n",
    "\n",
    "* The flat horizontal lines, represent periods in which data was not collected (i.e. I had no internet access, or I had to use the full computation power of my machine for other assignments).\n"
   ]
  },
  {
   "cell_type": "markdown",
   "metadata": {},
   "source": [
    "As a future improvement, I would like to train and fit a sentiment analysis model, using Twitter text data for the labelling and training.\n",
    "\n",
    "In fact, by using a pre trained model, there are a few downsides, including\n",
    "* text data used to train the model. The language used in a scientific paper or an online magazine might be significantly different from users posts in a social media platform. I would like to explore if using tweets to train the model, would then return different results (i.e. there are type-os, slang expressions, abbrevaited expressions, that might not be in the dictionary).\n",
    "* I have not been able to find a way to score the accuracy of the model. (Note that this would anyway require to pre-label a consistent amount of tweets).\n",
    "\n",
    "\n"
   ]
  },
  {
   "cell_type": "markdown",
   "metadata": {},
   "source": [
    "In the next section of the project we will proceed with an analysis to extract the most discussed/engaging topics. "
   ]
  }
 ],
 "metadata": {
  "kernelspec": {
   "display_name": "Python 3",
   "language": "python",
   "name": "python3"
  },
  "language_info": {
   "codemirror_mode": {
    "name": "ipython",
    "version": 3
   },
   "file_extension": ".py",
   "mimetype": "text/x-python",
   "name": "python",
   "nbconvert_exporter": "python",
   "pygments_lexer": "ipython3",
   "version": "3.8.3"
  }
 },
 "nbformat": 4,
 "nbformat_minor": 4
}

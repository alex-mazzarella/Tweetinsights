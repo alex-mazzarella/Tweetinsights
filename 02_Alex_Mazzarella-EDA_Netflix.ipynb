{
 "cells": [
  {
   "cell_type": "markdown",
   "metadata": {},
   "source": [
    "### 10-30-2020\n",
    "\n",
    "\n",
    "# TWEETINSIGHTS - PART 2 - EDA\n",
    "\n",
    "### ALEX MAZZARELLA"
   ]
  },
  {
   "cell_type": "markdown",
   "metadata": {},
   "source": [
    "### DATA SCIENCE full time course - BrainStation\n",
    "### CAPSTONE PROJECT"
   ]
  },
  {
   "cell_type": "markdown",
   "metadata": {},
   "source": [
    "# ============================================================="
   ]
  },
  {
   "cell_type": "markdown",
   "metadata": {},
   "source": [
    "In this second notebook, we are going to perform some EDA.\n",
    "First, we will load all the CSV files created during data collection, in one single master dataframe."
   ]
  },
  {
   "cell_type": "code",
   "execution_count": 1,
   "metadata": {},
   "outputs": [],
   "source": [
    "# import statements\n",
    "\n",
    "import pandas as pd\n",
    "import numpy as np\n",
    "\n",
    "import random\n",
    "\n",
    "import glob\n",
    "import os\n",
    "\n",
    "import matplotlib.pyplot as plt\n",
    "%matplotlib inline"
   ]
  },
  {
   "cell_type": "code",
   "execution_count": 2,
   "metadata": {},
   "outputs": [],
   "source": [
    "# concatenating all CSV with tweets collected into a master one\n",
    "\n",
    "csv_path_net = r'net_tweets_pulled'\n",
    "all_csv_net = glob.glob(os.path.join(csv_path_net, \"*.csv\"))\n",
    "\n",
    "my_list_net = []\n",
    "\n",
    "for filename in all_csv_net:\n",
    "    df_read = pd.read_csv(filename, index_col=None, header=0)\n",
    "    my_list_net.append(df_read)\n",
    "\n",
    "df_master = pd.concat(my_list_net, axis=0, ignore_index=True)"
   ]
  },
  {
   "cell_type": "code",
   "execution_count": 3,
   "metadata": {},
   "outputs": [],
   "source": [
    "# appending all CSV containing scraped tweets into a single CSV - NETFLIX\n",
    "df_master.to_csv('master_tweets/raw_netflix/netflix_tweets.csv', index=False)"
   ]
  },
  {
   "cell_type": "code",
   "execution_count": 4,
   "metadata": {},
   "outputs": [
    {
     "data": {
      "text/html": [
       "<div>\n",
       "<style scoped>\n",
       "    .dataframe tbody tr th:only-of-type {\n",
       "        vertical-align: middle;\n",
       "    }\n",
       "\n",
       "    .dataframe tbody tr th {\n",
       "        vertical-align: top;\n",
       "    }\n",
       "\n",
       "    .dataframe thead th {\n",
       "        text-align: right;\n",
       "    }\n",
       "</style>\n",
       "<table border=\"1\" class=\"dataframe\">\n",
       "  <thead>\n",
       "    <tr style=\"text-align: right;\">\n",
       "      <th></th>\n",
       "      <th>created_at</th>\n",
       "      <th>followers_count</th>\n",
       "      <th>friends_count</th>\n",
       "      <th>handle</th>\n",
       "      <th>hashtags</th>\n",
       "      <th>retweet</th>\n",
       "      <th>symbols</th>\n",
       "      <th>tweet</th>\n",
       "      <th>tweet_id</th>\n",
       "      <th>user_location</th>\n",
       "      <th>user_mentions</th>\n",
       "    </tr>\n",
       "  </thead>\n",
       "  <tbody>\n",
       "    <tr>\n",
       "      <th>0</th>\n",
       "      <td>Sat Sep 26 15:01:29 +0000 2020</td>\n",
       "      <td>327.0</td>\n",
       "      <td>570.0</td>\n",
       "      <td>kaseydrzazga</td>\n",
       "      <td>[]</td>\n",
       "      <td>0.0</td>\n",
       "      <td>[]</td>\n",
       "      <td>@Spacefunmars @RyanPGoldchains Ahem, @netflix ...</td>\n",
       "      <td>1.309871e+18</td>\n",
       "      <td>Cleveland</td>\n",
       "      <td>[{'screen_name': 'Spacefunmars', 'name': 'The ...</td>\n",
       "    </tr>\n",
       "    <tr>\n",
       "      <th>1</th>\n",
       "      <td>Sat Sep 26 15:01:28 +0000 2020</td>\n",
       "      <td>496.0</td>\n",
       "      <td>294.0</td>\n",
       "      <td>PlainPotatoTay</td>\n",
       "      <td>[]</td>\n",
       "      <td>0.0</td>\n",
       "      <td>[]</td>\n",
       "      <td>@charityfaith @netflix @HunterMarch You gotta ...</td>\n",
       "      <td>1.309871e+18</td>\n",
       "      <td>ALL BLACK LIVES MATTER ✊🏾</td>\n",
       "      <td>[{'screen_name': 'charityfaith', 'name': 'Char...</td>\n",
       "    </tr>\n",
       "    <tr>\n",
       "      <th>2</th>\n",
       "      <td>Sat Sep 26 15:01:28 +0000 2020</td>\n",
       "      <td>3.0</td>\n",
       "      <td>13.0</td>\n",
       "      <td>dsLdHzRDPbkII4p</td>\n",
       "      <td>[]</td>\n",
       "      <td>1.0</td>\n",
       "      <td>[]</td>\n",
       "      <td>Episodes 13 &amp;amp; 14 of \"ARASHI's Diary -Voyag...</td>\n",
       "      <td>1.309871e+18</td>\n",
       "      <td>NaN</td>\n",
       "      <td>[{'screen_name': 'arashi5official', 'name': 'A...</td>\n",
       "    </tr>\n",
       "    <tr>\n",
       "      <th>3</th>\n",
       "      <td>Sat Sep 26 15:01:24 +0000 2020</td>\n",
       "      <td>1242.0</td>\n",
       "      <td>1095.0</td>\n",
       "      <td>AntonCrace</td>\n",
       "      <td>[{'text': 'TheShining', 'indices': [26, 37]}, ...</td>\n",
       "      <td>0.0</td>\n",
       "      <td>[]</td>\n",
       "      <td>Good news! The version of #TheShining on @netf...</td>\n",
       "      <td>1.309871e+18</td>\n",
       "      <td>Singapore</td>\n",
       "      <td>[{'screen_name': 'netflix', 'name': 'Netflix',...</td>\n",
       "    </tr>\n",
       "    <tr>\n",
       "      <th>4</th>\n",
       "      <td>Sat Sep 26 15:01:23 +0000 2020</td>\n",
       "      <td>0.0</td>\n",
       "      <td>8.0</td>\n",
       "      <td>Finn91048394</td>\n",
       "      <td>[]</td>\n",
       "      <td>0.0</td>\n",
       "      <td>[]</td>\n",
       "      <td>@netflix  that would be cool if you added shrek</td>\n",
       "      <td>1.309871e+18</td>\n",
       "      <td>NaN</td>\n",
       "      <td>[{'screen_name': 'netflix', 'name': 'Netflix',...</td>\n",
       "    </tr>\n",
       "  </tbody>\n",
       "</table>\n",
       "</div>"
      ],
      "text/plain": [
       "                       created_at  followers_count  friends_count  \\\n",
       "0  Sat Sep 26 15:01:29 +0000 2020            327.0          570.0   \n",
       "1  Sat Sep 26 15:01:28 +0000 2020            496.0          294.0   \n",
       "2  Sat Sep 26 15:01:28 +0000 2020              3.0           13.0   \n",
       "3  Sat Sep 26 15:01:24 +0000 2020           1242.0         1095.0   \n",
       "4  Sat Sep 26 15:01:23 +0000 2020              0.0            8.0   \n",
       "\n",
       "            handle                                           hashtags  \\\n",
       "0     kaseydrzazga                                                 []   \n",
       "1   PlainPotatoTay                                                 []   \n",
       "2  dsLdHzRDPbkII4p                                                 []   \n",
       "3       AntonCrace  [{'text': 'TheShining', 'indices': [26, 37]}, ...   \n",
       "4     Finn91048394                                                 []   \n",
       "\n",
       "   retweet symbols                                              tweet  \\\n",
       "0      0.0      []  @Spacefunmars @RyanPGoldchains Ahem, @netflix ...   \n",
       "1      0.0      []  @charityfaith @netflix @HunterMarch You gotta ...   \n",
       "2      1.0      []  Episodes 13 &amp; 14 of \"ARASHI's Diary -Voyag...   \n",
       "3      0.0      []  Good news! The version of #TheShining on @netf...   \n",
       "4      0.0      []    @netflix  that would be cool if you added shrek   \n",
       "\n",
       "       tweet_id               user_location  \\\n",
       "0  1.309871e+18                   Cleveland   \n",
       "1  1.309871e+18  ALL BLACK LIVES MATTER ✊🏾    \n",
       "2  1.309871e+18                         NaN   \n",
       "3  1.309871e+18                   Singapore   \n",
       "4  1.309871e+18                         NaN   \n",
       "\n",
       "                                       user_mentions  \n",
       "0  [{'screen_name': 'Spacefunmars', 'name': 'The ...  \n",
       "1  [{'screen_name': 'charityfaith', 'name': 'Char...  \n",
       "2  [{'screen_name': 'arashi5official', 'name': 'A...  \n",
       "3  [{'screen_name': 'netflix', 'name': 'Netflix',...  \n",
       "4  [{'screen_name': 'netflix', 'name': 'Netflix',...  "
      ]
     },
     "execution_count": 4,
     "metadata": {},
     "output_type": "execute_result"
    }
   ],
   "source": [
    "# load CSV with all tweets scraped into a pandas df\n",
    "df_raw_net = pd.read_csv('master_tweets/raw_netflix/netflix_tweets.csv')\n",
    "df_raw_net.head()"
   ]
  },
  {
   "cell_type": "markdown",
   "metadata": {},
   "source": [
    "Note: the last two cells might also be avoided (by assigning the concatenation of the CSVs directly into df_raw_net).\n",
    "However, it is in my opinion a good idea to be more explicit (also for future use), as well as to have a master CSV file saved."
   ]
  },
  {
   "cell_type": "code",
   "execution_count": 5,
   "metadata": {},
   "outputs": [
    {
     "data": {
      "text/plain": [
       "(61893, 11)"
      ]
     },
     "execution_count": 5,
     "metadata": {},
     "output_type": "execute_result"
    }
   ],
   "source": [
    "# checking size of the raw dataset - NETFLIX\n",
    "df_raw_net.shape"
   ]
  },
  {
   "cell_type": "code",
   "execution_count": 6,
   "metadata": {
    "scrolled": false
   },
   "outputs": [
    {
     "name": "stdout",
     "output_type": "stream",
     "text": [
      "<class 'pandas.core.frame.DataFrame'>\n",
      "RangeIndex: 61893 entries, 0 to 61892\n",
      "Data columns (total 11 columns):\n",
      " #   Column           Non-Null Count  Dtype  \n",
      "---  ------           --------------  -----  \n",
      " 0   created_at       61893 non-null  object \n",
      " 1   followers_count  61893 non-null  float64\n",
      " 2   friends_count    61893 non-null  float64\n",
      " 3   handle           61893 non-null  object \n",
      " 4   hashtags         61893 non-null  object \n",
      " 5   retweet          61893 non-null  float64\n",
      " 6   symbols          61893 non-null  object \n",
      " 7   tweet            61893 non-null  object \n",
      " 8   tweet_id         61893 non-null  float64\n",
      " 9   user_location    40995 non-null  object \n",
      " 10  user_mentions    61893 non-null  object \n",
      "dtypes: float64(4), object(7)\n",
      "memory usage: 5.2+ MB\n"
     ]
    }
   ],
   "source": [
    "# checking information and data types in the dataset\n",
    "df_raw_net.info()"
   ]
  },
  {
   "cell_type": "markdown",
   "metadata": {},
   "source": [
    "### Features description."
   ]
  },
  {
   "cell_type": "markdown",
   "metadata": {},
   "source": [
    "Here below, I am going to describe what each column of the dataset contains.\n",
    "\n",
    "* **`created_at`**. Contains date and time at which the tweet was generated. Type: object. No null values.\n",
    "\n",
    "* **`followers_count`**. The total count of followers for the tweeting user. (Reflects the total count at time and date shown in `created_at`). Type: float64 (int would be more appropriate). No null values.\n",
    "\n",
    "* **`friends_count`**. The total count of Twitter accounts followed by the user (at the time specified in `created_at`).  Type: float64 (int would be more appropriate). No null values.\n",
    "\n",
    "* **`handle`**. The public username (it usually appears after the '@'). Type: Object. No null values. \n",
    "\n",
    "* **`hashtags`**. For tweets that included hashtags in the text, this column contains a list of dictionaries (one dictionary for each hashtag in the text). The keys are 'text' (the hashtags) and 'indices' (position of hashtags in the tweet text). Type: object. No null values.\n",
    "\n",
    "\n",
    "* **`retweet`**. Value is 1 for retweets, otherwise 0. Type: float64 (int would be more appropriate). No null values.\n",
    "\n",
    "* **`symbols`**. Part of the entities that provide metadata and additional contextual information about the tweet. Symbols are usually stock symbols. If symbols were contained in the tweet text, they will be in this column, otherwise we will have an empty list. Type: Object. No null values. Please note, less than 0.002% of the rows have symbols, therefore I might consider dropping the column. \n",
    "\n",
    "* **`tweet`**. The actual text of the tweet. Type: object. No null values.\n",
    "\n",
    "* **`tweet_id`**. The unique identifier of the tweet. Type: float64 (int would be more appropriate). No null values.\n",
    "\n",
    "* **`user_location`**. The location that the user specified in his profile. Note that this is not verified, hence a user can write the location with no formatting rule and also any other type of text information. Type: object. There are ~21,000 (33%) null values.\n",
    "\n",
    "* **`user_mentions`** Contains info of other Twitter users mentioned in the tweet text. It is a list of dictionaries, where the keys are  'screen_name', 'name', 'id' (of the user mentioned), 'id_str' (id in string format), 'indices' (position in tweet were the mention appeared). If there were no mention, there will be an empty list. Type: object. No null values."
   ]
  },
  {
   "cell_type": "markdown",
   "metadata": {},
   "source": [
    "### Checking duplicates"
   ]
  },
  {
   "cell_type": "code",
   "execution_count": 7,
   "metadata": {},
   "outputs": [
    {
     "name": "stdout",
     "output_type": "stream",
     "text": [
      "Current count of duplicated rows: 10188\n"
     ]
    }
   ],
   "source": [
    "# duplicated rows\n",
    "print(f'Current count of duplicated rows: {df_raw_net.duplicated().sum()}')"
   ]
  },
  {
   "cell_type": "markdown",
   "metadata": {},
   "source": [
    "We won't have use for duplicated rows in our analysis. Let's drop them."
   ]
  },
  {
   "cell_type": "code",
   "execution_count": 8,
   "metadata": {},
   "outputs": [],
   "source": [
    "# remove duplicate rows\n",
    "df_raw_net = df_raw_net.drop_duplicates(keep = 'first')"
   ]
  },
  {
   "cell_type": "code",
   "execution_count": 9,
   "metadata": {},
   "outputs": [
    {
     "data": {
      "text/plain": [
       "0"
      ]
     },
     "execution_count": 9,
     "metadata": {},
     "output_type": "execute_result"
    }
   ],
   "source": [
    "# checking duplicates - all removed\n",
    "df_raw_net.duplicated().sum()"
   ]
  },
  {
   "cell_type": "markdown",
   "metadata": {},
   "source": [
    "### Checking null values"
   ]
  },
  {
   "cell_type": "code",
   "execution_count": 10,
   "metadata": {},
   "outputs": [
    {
     "data": {
      "text/plain": [
       "created_at         False\n",
       "followers_count    False\n",
       "friends_count      False\n",
       "handle             False\n",
       "hashtags           False\n",
       "retweet            False\n",
       "symbols            False\n",
       "tweet              False\n",
       "tweet_id           False\n",
       "user_location       True\n",
       "user_mentions      False\n",
       "dtype: bool"
      ]
     },
     "execution_count": 10,
     "metadata": {},
     "output_type": "execute_result"
    }
   ],
   "source": [
    "df_raw_net.isna().any()"
   ]
  },
  {
   "cell_type": "markdown",
   "metadata": {},
   "source": [
    "We have already seen during the features description that we have a high percentage of null values in the 'location' column. Let's look at a random sample of 20 rows."
   ]
  },
  {
   "cell_type": "code",
   "execution_count": 11,
   "metadata": {},
   "outputs": [
    {
     "data": {
      "text/plain": [
       "47266            cabin 7, hufflepuff.\n",
       "4373                        Australia\n",
       "25396                             NaN\n",
       "57766                New Delhi, India\n",
       "54372                 London, England\n",
       "771      Chilliwack, British Columbia\n",
       "17529                             NaN\n",
       "15501                             NaN\n",
       "12634                      Texas, USA\n",
       "45386                    South Africa\n",
       "21183       ÜT: 33.0000,-00.983243434\n",
       "32452                              UK\n",
       "32484            Great White North 🇨🇦\n",
       "24015     Republic of the Philippines\n",
       "39196                   Massachusetts\n",
       "36588         Land of Hopes & Dreams!\n",
       "11934                       Neverland\n",
       "19163                        Colombia\n",
       "26983                             NaN\n",
       "36322                 Los Angeles, CA\n",
       "Name: user_location, dtype: object"
      ]
     },
     "execution_count": 11,
     "metadata": {},
     "output_type": "execute_result"
    }
   ],
   "source": [
    "# sampling 20 random rows of `user_location`\n",
    "df_raw_net['user_location'].sample(20)"
   ]
  },
  {
   "cell_type": "markdown",
   "metadata": {},
   "source": [
    "As we can see from the cell above, not all users indicate a location in the location field. At this stage, this column doesn't seem to be reliable for geographical analysis. I am considering dropping the entire column, however I will wait to complete the rest of the cleaning steps, to then check again if we will have a different situation after that."
   ]
  },
  {
   "cell_type": "markdown",
   "metadata": {},
   "source": [
    "### Date - time conversion and analysis."
   ]
  },
  {
   "cell_type": "markdown",
   "metadata": {},
   "source": [
    "We have some columns that are currently formatted with data types that are not optimal for the info that they actually represent. `followers_count`, `friends_count`, `retweet`, `tweet_id`, are currently float, though they cannot assume decimal values. I will convert them to integer.\n",
    "\n",
    "`created_at` is currently an object representing date and time at which the tweet was generated, therefore I will convert it to datetime format.\n",
    "\n"
   ]
  },
  {
   "cell_type": "markdown",
   "metadata": {},
   "source": [
    "**Converting floats to integers**."
   ]
  },
  {
   "cell_type": "code",
   "execution_count": 12,
   "metadata": {},
   "outputs": [],
   "source": [
    "# converting followers count to int32 \n",
    "df_raw_net.loc[:,'followers_count'] = df_raw_net.loc[:,'followers_count'].astype('int32')"
   ]
  },
  {
   "cell_type": "markdown",
   "metadata": {},
   "source": [
    "Note: I am using int32 to be mindful of memory. Int32 can store values from -2,147,483,648 to 2,147,483,647. According to [brandwatch](https://www.brandwatch.com/blog/most-twitter-followers/), as of October 1st, 2020, the Twitter account with the highest number of followers is @BarackObama, with ~123 M followers.\n",
    "So the code should work with int32 for a while. However, if you will be using the code, please feel free to use the data type you find most suitable."
   ]
  },
  {
   "cell_type": "code",
   "execution_count": 13,
   "metadata": {},
   "outputs": [],
   "source": [
    "# converting friends count to int32 \n",
    "df_raw_net.loc[:,'friends_count'] = df_raw_net.loc[:,'friends_count'].astype('int32')"
   ]
  },
  {
   "cell_type": "code",
   "execution_count": 14,
   "metadata": {},
   "outputs": [],
   "source": [
    "# converting retweet to int8\n",
    "df_raw_net.loc[:,'retweet'] = df_raw_net.loc[:,'retweet'].astype('int8')"
   ]
  },
  {
   "cell_type": "code",
   "execution_count": 15,
   "metadata": {},
   "outputs": [],
   "source": [
    "# converting tweet_id to int \n",
    "df_raw_net.loc[:,'tweet_id'] = np.int64(df_raw_net['tweet_id'])"
   ]
  },
  {
   "cell_type": "code",
   "execution_count": 16,
   "metadata": {},
   "outputs": [
    {
     "data": {
      "text/html": [
       "<div>\n",
       "<style scoped>\n",
       "    .dataframe tbody tr th:only-of-type {\n",
       "        vertical-align: middle;\n",
       "    }\n",
       "\n",
       "    .dataframe tbody tr th {\n",
       "        vertical-align: top;\n",
       "    }\n",
       "\n",
       "    .dataframe thead th {\n",
       "        text-align: right;\n",
       "    }\n",
       "</style>\n",
       "<table border=\"1\" class=\"dataframe\">\n",
       "  <thead>\n",
       "    <tr style=\"text-align: right;\">\n",
       "      <th></th>\n",
       "      <th>followers_count</th>\n",
       "      <th>friends_count</th>\n",
       "      <th>retweet</th>\n",
       "      <th>tweet_id</th>\n",
       "    </tr>\n",
       "  </thead>\n",
       "  <tbody>\n",
       "    <tr>\n",
       "      <th>0</th>\n",
       "      <td>327</td>\n",
       "      <td>570</td>\n",
       "      <td>0</td>\n",
       "      <td>1309870714116337664</td>\n",
       "    </tr>\n",
       "    <tr>\n",
       "      <th>1</th>\n",
       "      <td>496</td>\n",
       "      <td>294</td>\n",
       "      <td>0</td>\n",
       "      <td>1309870713441005568</td>\n",
       "    </tr>\n",
       "    <tr>\n",
       "      <th>2</th>\n",
       "      <td>3</td>\n",
       "      <td>13</td>\n",
       "      <td>1</td>\n",
       "      <td>1309870711943487488</td>\n",
       "    </tr>\n",
       "    <tr>\n",
       "      <th>3</th>\n",
       "      <td>1242</td>\n",
       "      <td>1095</td>\n",
       "      <td>0</td>\n",
       "      <td>1309870693291491328</td>\n",
       "    </tr>\n",
       "    <tr>\n",
       "      <th>4</th>\n",
       "      <td>0</td>\n",
       "      <td>8</td>\n",
       "      <td>0</td>\n",
       "      <td>1309870690556878848</td>\n",
       "    </tr>\n",
       "    <tr>\n",
       "      <th>...</th>\n",
       "      <td>...</td>\n",
       "      <td>...</td>\n",
       "      <td>...</td>\n",
       "      <td>...</td>\n",
       "    </tr>\n",
       "    <tr>\n",
       "      <th>61888</th>\n",
       "      <td>305</td>\n",
       "      <td>292</td>\n",
       "      <td>0</td>\n",
       "      <td>1313059804286517248</td>\n",
       "    </tr>\n",
       "    <tr>\n",
       "      <th>61889</th>\n",
       "      <td>427</td>\n",
       "      <td>341</td>\n",
       "      <td>1</td>\n",
       "      <td>1313059586300022784</td>\n",
       "    </tr>\n",
       "    <tr>\n",
       "      <th>61890</th>\n",
       "      <td>358</td>\n",
       "      <td>344</td>\n",
       "      <td>1</td>\n",
       "      <td>1313059582449721088</td>\n",
       "    </tr>\n",
       "    <tr>\n",
       "      <th>61891</th>\n",
       "      <td>1503</td>\n",
       "      <td>809</td>\n",
       "      <td>1</td>\n",
       "      <td>1313059576305070080</td>\n",
       "    </tr>\n",
       "    <tr>\n",
       "      <th>61892</th>\n",
       "      <td>965</td>\n",
       "      <td>672</td>\n",
       "      <td>1</td>\n",
       "      <td>1313059485666160640</td>\n",
       "    </tr>\n",
       "  </tbody>\n",
       "</table>\n",
       "<p>51705 rows × 4 columns</p>\n",
       "</div>"
      ],
      "text/plain": [
       "       followers_count  friends_count  retweet             tweet_id\n",
       "0                  327            570        0  1309870714116337664\n",
       "1                  496            294        0  1309870713441005568\n",
       "2                    3             13        1  1309870711943487488\n",
       "3                 1242           1095        0  1309870693291491328\n",
       "4                    0              8        0  1309870690556878848\n",
       "...                ...            ...      ...                  ...\n",
       "61888              305            292        0  1313059804286517248\n",
       "61889              427            341        1  1313059586300022784\n",
       "61890              358            344        1  1313059582449721088\n",
       "61891             1503            809        1  1313059576305070080\n",
       "61892              965            672        1  1313059485666160640\n",
       "\n",
       "[51705 rows x 4 columns]"
      ]
     },
     "execution_count": 16,
     "metadata": {},
     "output_type": "execute_result"
    }
   ],
   "source": [
    "# checking all columns converted above\n",
    "df_raw_net.select_dtypes(include=['int8','int32','int64'])"
   ]
  },
  {
   "cell_type": "markdown",
   "metadata": {},
   "source": [
    "**Converting `created_at` to datetime**."
   ]
  },
  {
   "cell_type": "markdown",
   "metadata": {},
   "source": [
    "The column `created_at` is currently an object, containing information on when the tweet was generated. It includes the day of the week, date, time and time zone info. While all these info are useful, they can be better used for analysis purposes if splitted in separate cells."
   ]
  },
  {
   "cell_type": "code",
   "execution_count": 17,
   "metadata": {},
   "outputs": [],
   "source": [
    "df_raw_net['created_at'] = pd.to_datetime(df_raw_net['created_at']) "
   ]
  },
  {
   "cell_type": "code",
   "execution_count": 18,
   "metadata": {},
   "outputs": [],
   "source": [
    "# creating new column with only date (YYY-MM-DD) of tweet \n",
    "df_raw_net['created_date'] = df_raw_net['created_at'].dt.strftime('%Y-%m-%d')"
   ]
  },
  {
   "cell_type": "code",
   "execution_count": 19,
   "metadata": {},
   "outputs": [],
   "source": [
    "# creating new column with only hour(24) of tweet - we will not need the minutes info for the visualization\n",
    "df_raw_net['created_hour_of_day'] = df_raw_net['created_at'].dt.strftime('%H')"
   ]
  },
  {
   "cell_type": "code",
   "execution_count": 20,
   "metadata": {},
   "outputs": [],
   "source": [
    "# # creating new column with only day of week ( 0 = Sunday to 6 = Saturday) of tweet\n",
    "df_raw_net['created_day_week'] = df_raw_net['created_at'].dt.dayofweek"
   ]
  },
  {
   "cell_type": "code",
   "execution_count": 21,
   "metadata": {
    "scrolled": false
   },
   "outputs": [
    {
     "data": {
      "text/html": [
       "<div>\n",
       "<style scoped>\n",
       "    .dataframe tbody tr th:only-of-type {\n",
       "        vertical-align: middle;\n",
       "    }\n",
       "\n",
       "    .dataframe tbody tr th {\n",
       "        vertical-align: top;\n",
       "    }\n",
       "\n",
       "    .dataframe thead th {\n",
       "        text-align: right;\n",
       "    }\n",
       "</style>\n",
       "<table border=\"1\" class=\"dataframe\">\n",
       "  <thead>\n",
       "    <tr style=\"text-align: right;\">\n",
       "      <th></th>\n",
       "      <th>0</th>\n",
       "      <th>1</th>\n",
       "      <th>2</th>\n",
       "    </tr>\n",
       "  </thead>\n",
       "  <tbody>\n",
       "    <tr>\n",
       "      <th>created_at</th>\n",
       "      <td>2020-09-26 15:01:29+00:00</td>\n",
       "      <td>2020-09-26 15:01:28+00:00</td>\n",
       "      <td>2020-09-26 15:01:28+00:00</td>\n",
       "    </tr>\n",
       "    <tr>\n",
       "      <th>followers_count</th>\n",
       "      <td>327</td>\n",
       "      <td>496</td>\n",
       "      <td>3</td>\n",
       "    </tr>\n",
       "    <tr>\n",
       "      <th>friends_count</th>\n",
       "      <td>570</td>\n",
       "      <td>294</td>\n",
       "      <td>13</td>\n",
       "    </tr>\n",
       "    <tr>\n",
       "      <th>handle</th>\n",
       "      <td>kaseydrzazga</td>\n",
       "      <td>PlainPotatoTay</td>\n",
       "      <td>dsLdHzRDPbkII4p</td>\n",
       "    </tr>\n",
       "    <tr>\n",
       "      <th>hashtags</th>\n",
       "      <td>[]</td>\n",
       "      <td>[]</td>\n",
       "      <td>[]</td>\n",
       "    </tr>\n",
       "    <tr>\n",
       "      <th>retweet</th>\n",
       "      <td>0</td>\n",
       "      <td>0</td>\n",
       "      <td>1</td>\n",
       "    </tr>\n",
       "    <tr>\n",
       "      <th>symbols</th>\n",
       "      <td>[]</td>\n",
       "      <td>[]</td>\n",
       "      <td>[]</td>\n",
       "    </tr>\n",
       "    <tr>\n",
       "      <th>tweet</th>\n",
       "      <td>@Spacefunmars @RyanPGoldchains Ahem, @netflix ...</td>\n",
       "      <td>@charityfaith @netflix @HunterMarch You gotta ...</td>\n",
       "      <td>Episodes 13 &amp;amp; 14 of \"ARASHI's Diary -Voyag...</td>\n",
       "    </tr>\n",
       "    <tr>\n",
       "      <th>tweet_id</th>\n",
       "      <td>1309870714116337664</td>\n",
       "      <td>1309870713441005568</td>\n",
       "      <td>1309870711943487488</td>\n",
       "    </tr>\n",
       "    <tr>\n",
       "      <th>user_location</th>\n",
       "      <td>Cleveland</td>\n",
       "      <td>ALL BLACK LIVES MATTER ✊🏾</td>\n",
       "      <td>NaN</td>\n",
       "    </tr>\n",
       "    <tr>\n",
       "      <th>user_mentions</th>\n",
       "      <td>[{'screen_name': 'Spacefunmars', 'name': 'The ...</td>\n",
       "      <td>[{'screen_name': 'charityfaith', 'name': 'Char...</td>\n",
       "      <td>[{'screen_name': 'arashi5official', 'name': 'A...</td>\n",
       "    </tr>\n",
       "    <tr>\n",
       "      <th>created_date</th>\n",
       "      <td>2020-09-26</td>\n",
       "      <td>2020-09-26</td>\n",
       "      <td>2020-09-26</td>\n",
       "    </tr>\n",
       "    <tr>\n",
       "      <th>created_hour_of_day</th>\n",
       "      <td>15</td>\n",
       "      <td>15</td>\n",
       "      <td>15</td>\n",
       "    </tr>\n",
       "    <tr>\n",
       "      <th>created_day_week</th>\n",
       "      <td>5</td>\n",
       "      <td>5</td>\n",
       "      <td>5</td>\n",
       "    </tr>\n",
       "  </tbody>\n",
       "</table>\n",
       "</div>"
      ],
      "text/plain": [
       "                                                                     0  \\\n",
       "created_at                                   2020-09-26 15:01:29+00:00   \n",
       "followers_count                                                    327   \n",
       "friends_count                                                      570   \n",
       "handle                                                    kaseydrzazga   \n",
       "hashtags                                                            []   \n",
       "retweet                                                              0   \n",
       "symbols                                                             []   \n",
       "tweet                @Spacefunmars @RyanPGoldchains Ahem, @netflix ...   \n",
       "tweet_id                                           1309870714116337664   \n",
       "user_location                                                Cleveland   \n",
       "user_mentions        [{'screen_name': 'Spacefunmars', 'name': 'The ...   \n",
       "created_date                                                2020-09-26   \n",
       "created_hour_of_day                                                 15   \n",
       "created_day_week                                                     5   \n",
       "\n",
       "                                                                     1  \\\n",
       "created_at                                   2020-09-26 15:01:28+00:00   \n",
       "followers_count                                                    496   \n",
       "friends_count                                                      294   \n",
       "handle                                                  PlainPotatoTay   \n",
       "hashtags                                                            []   \n",
       "retweet                                                              0   \n",
       "symbols                                                             []   \n",
       "tweet                @charityfaith @netflix @HunterMarch You gotta ...   \n",
       "tweet_id                                           1309870713441005568   \n",
       "user_location                               ALL BLACK LIVES MATTER ✊🏾    \n",
       "user_mentions        [{'screen_name': 'charityfaith', 'name': 'Char...   \n",
       "created_date                                                2020-09-26   \n",
       "created_hour_of_day                                                 15   \n",
       "created_day_week                                                     5   \n",
       "\n",
       "                                                                     2  \n",
       "created_at                                   2020-09-26 15:01:28+00:00  \n",
       "followers_count                                                      3  \n",
       "friends_count                                                       13  \n",
       "handle                                                 dsLdHzRDPbkII4p  \n",
       "hashtags                                                            []  \n",
       "retweet                                                              1  \n",
       "symbols                                                             []  \n",
       "tweet                Episodes 13 &amp; 14 of \"ARASHI's Diary -Voyag...  \n",
       "tweet_id                                           1309870711943487488  \n",
       "user_location                                                      NaN  \n",
       "user_mentions        [{'screen_name': 'arashi5official', 'name': 'A...  \n",
       "created_date                                                2020-09-26  \n",
       "created_hour_of_day                                                 15  \n",
       "created_day_week                                                     5  "
      ]
     },
     "execution_count": 21,
     "metadata": {},
     "output_type": "execute_result"
    }
   ],
   "source": [
    "df_raw_net.head(3).T"
   ]
  },
  {
   "cell_type": "code",
   "execution_count": 22,
   "metadata": {},
   "outputs": [
    {
     "data": {
      "text/plain": [
       "0       2020-09-26 15:01:29+00:00\n",
       "61892   2020-10-05 10:12:31+00:00\n",
       "Name: created_at, dtype: datetime64[ns, UTC]"
      ]
     },
     "execution_count": 22,
     "metadata": {},
     "output_type": "execute_result"
    }
   ],
   "source": [
    "# check the scraping period (date/time of first and last tweet in the dataset)\n",
    "df_raw_net.iloc[[0,-1]]['created_at']"
   ]
  },
  {
   "cell_type": "markdown",
   "metadata": {},
   "source": [
    "One information that could be useful, is to know at which times of the day and week the users are more likely to tweet.\n",
    "We can plot the tweets counts divided by time of the day/week. However, I see a few challenges in doing so effectively with my current dataset:\n",
    "* the tweets were not collected continuously over the scraping period (which has we have seen above, was from Sep 26 to Oct 5, 2020). That is, There were time at which I was not able to collect them. To give a relevant representation, I should have run the scraping operation 24/7.\n",
    "* Just one week of sampling, might not be a relevant representative sample. If I had at least a month of tweets collected, that would have been already more meaningful.\n",
    "* since it does not seem feasible to assign a location to each user, tweets can come from all parts of the world, on different time zones. If we were to find out that the hours with most tweets are for example during the morning and evening commute, it would be a different time for a user in Mumbai, one in Loondon UK and one in Chicago. Therefore, unless we are able to separate the tweets by location of the user, we would have challenges in representing this classification.\n",
    "\n",
    "I will then add the code for plotting the count of tweets by hour/day of the week, which could be reused for samples taken over a large period of time. (But please be mindful of the considerations above)."
   ]
  },
  {
   "cell_type": "markdown",
   "metadata": {},
   "source": [
    "Note: since our period of collection has been 10 days, we will select for the visualizations only tweets from Monday 00:00 to Sunday 23:59.\n",
    "In this way, every weekday represented will appear in the sample the same number of times."
   ]
  },
  {
   "cell_type": "code",
   "execution_count": 23,
   "metadata": {},
   "outputs": [],
   "source": [
    "# selecting monday - sunday\n",
    "hours_df = df_raw_net[(df_raw_net['created_at']>='2020-09-28 00:00:00+00:00') &\n",
    "                     (df_raw_net['created_at']<'2020-10-05 00:00:00+00:00')]"
   ]
  },
  {
   "cell_type": "code",
   "execution_count": 24,
   "metadata": {},
   "outputs": [
    {
     "data": {
      "text/plain": [
       "11792   2020-09-28 00:02:06+00:00\n",
       "58493   2020-10-04 23:52:46+00:00\n",
       "Name: created_at, dtype: datetime64[ns, UTC]"
      ]
     },
     "execution_count": 24,
     "metadata": {},
     "output_type": "execute_result"
    }
   ],
   "source": [
    "# checking dates of first and last tweet\n",
    "hours_df.iloc[[0,-1]]['created_at']"
   ]
  },
  {
   "cell_type": "code",
   "execution_count": 25,
   "metadata": {},
   "outputs": [],
   "source": [
    "hours = hours_df.groupby('created_hour_of_day').count().index\n",
    "count_by_hours = hours_df.groupby('created_hour_of_day').count().values[:,0]\n"
   ]
  },
  {
   "cell_type": "code",
   "execution_count": 26,
   "metadata": {
    "scrolled": false
   },
   "outputs": [
    {
     "data": {
      "image/png": "[encoded data removed]",
      "text/plain": [
       "<Figure size 864x504 with 1 Axes>"
      ]
     },
     "metadata": {
      "needs_background": "light"
     },
     "output_type": "display_data"
    }
   ],
   "source": [
    "# code to plot tweets counts by hour of the day\n",
    "\n",
    "# fontsize variable\n",
    "fsize = 14\n",
    "\n",
    "plt.figure(figsize=(12,7))\n",
    "plt.plot(hours, count_by_hours, lw =3, label = 'Total tweets by hour', color = 'deepskyblue')\n",
    "plt.axhline(count_by_hours.mean(), lw = 3, c = 'gold', label = 'Avg tweets by hour')\n",
    "plt.ylabel('Tweets count', fontsize = fsize)\n",
    "plt.xlabel('Hour of the day', fontsize = fsize)\n",
    "plt.legend(fontsize = fsize*0.8)\n",
    "plt.title('Netflix tweets counts by hour (Sep 28-Oct 4 - times in UTC time zone)', fontsize = fsize *1.2)\n",
    "plt.ylim(0, count_by_hours.max()*1.05)\n",
    "plt.xlim(hours.min(),hours.max())\n",
    "plt.xticks(range(0,23,2), fontsize = fsize)\n",
    "plt.yticks(fontsize = fsize)\n",
    "plt.show()"
   ]
  },
  {
   "cell_type": "markdown",
   "metadata": {},
   "source": [
    "Anticipated during the considerations above, we can not extract meaningful information from this plot.\n",
    "However, if for instance we were to assume that most of the tweets were coming from users in USA/Canada (EST time zone), we could have said that the busiest hours are the  evenings (9 pm to 4 am UTC, which would be 5 pm to midnight eastern) and late night (around 7 am UTC, 3 am eastern)."
   ]
  },
  {
   "cell_type": "markdown",
   "metadata": {},
   "source": [
    "Let's check now for the days of the week. Once again, the considerations done above for the interpretability of the date values, still apply."
   ]
  },
  {
   "cell_type": "code",
   "execution_count": 27,
   "metadata": {},
   "outputs": [],
   "source": [
    "# selecting monday - sunday\n",
    "days_df = df_raw_net[(df_raw_net['created_at']>='2020-09-28 00:00:00+00:00') &\n",
    "                     (df_raw_net['created_at']<'2020-10-05 00:00:00+00:00')]"
   ]
  },
  {
   "cell_type": "code",
   "execution_count": 28,
   "metadata": {},
   "outputs": [],
   "source": [
    "days = days_df.groupby('created_day_week').count().index\n",
    "count_by_days = days_df.groupby('created_day_week').count().values[:,0]"
   ]
  },
  {
   "cell_type": "code",
   "execution_count": 29,
   "metadata": {},
   "outputs": [
    {
     "data": {
      "image/png": "[encoded data removed]",
      "text/plain": [
       "<Figure size 864x504 with 1 Axes>"
      ]
     },
     "metadata": {
      "needs_background": "light"
     },
     "output_type": "display_data"
    }
   ],
   "source": [
    "# code to plot tweets counts by hour of the day\n",
    "\n",
    "# size of font\n",
    "fsize = 14\n",
    "\n",
    "plt.figure(figsize=(12,7))\n",
    "plt.bar(days, count_by_days, color = 'deepskyblue')\n",
    "plt.ylabel('Tweets count', fontsize = fsize)\n",
    "plt.xlabel('Day of the week', fontsize = fsize)\n",
    "plt.title('Netflix tweets counts by day of the week (all times in UTC time zone)', fontsize = fsize*1.2)\n",
    "plt.xticks(ticks = range(0,7), labels = ['Sunday','Monday','Tuesday','Wednesday','Thursday','Friday','Saturday'], fontsize = fsize*0.9)\n",
    "plt.yticks(fontsize = fsize*0.9)\n",
    "for index, value in enumerate(count_by_days):\n",
    "    plt.text(index, value, str(value), size = 'large', ha = 'center', va = 'top')\n",
    "\n",
    "plt.show()"
   ]
  },
  {
   "cell_type": "markdown",
   "metadata": {},
   "source": [
    "This plot shows that from Saturday to Wednesday, there is no significant change in counts of tweets. A major drop on Fridays, quite surprisingly.\n",
    "\n",
    "But once again, following the considerations above (different time zones, intermittent data scraping), this plot is not sufficient to confirm that Saturday is the day of the week with most tweets.\n",
    "\n",
    "For future analysis, we could for example collect tweets only from a specific geographical area (by setting ther geocoordinates and radius in the API request). However, the limit to that might be that we might not get all tweets in that area (remember that it is not mandatory for a user to share their correct location, and a large number seems to not do so). "
   ]
  },
  {
   "cell_type": "markdown",
   "metadata": {},
   "source": [
    "### Followers and activity\n"
   ]
  },
  {
   "cell_type": "markdown",
   "metadata": {},
   "source": [
    "**Accounts with most followers**."
   ]
  },
  {
   "cell_type": "code",
   "execution_count": 30,
   "metadata": {},
   "outputs": [
    {
     "data": {
      "text/html": [
       "<div>\n",
       "<style scoped>\n",
       "    .dataframe tbody tr th:only-of-type {\n",
       "        vertical-align: middle;\n",
       "    }\n",
       "\n",
       "    .dataframe tbody tr th {\n",
       "        vertical-align: top;\n",
       "    }\n",
       "\n",
       "    .dataframe thead th {\n",
       "        text-align: right;\n",
       "    }\n",
       "</style>\n",
       "<table border=\"1\" class=\"dataframe\">\n",
       "  <thead>\n",
       "    <tr style=\"text-align: right;\">\n",
       "      <th></th>\n",
       "      <th>avg_followers_count</th>\n",
       "      <th>tweets_count</th>\n",
       "      <th>retweet</th>\n",
       "    </tr>\n",
       "    <tr>\n",
       "      <th>handle</th>\n",
       "      <th></th>\n",
       "      <th></th>\n",
       "      <th></th>\n",
       "    </tr>\n",
       "  </thead>\n",
       "  <tbody>\n",
       "    <tr>\n",
       "      <th>CBSNews</th>\n",
       "      <td>7733241</td>\n",
       "      <td>1</td>\n",
       "      <td>0</td>\n",
       "    </tr>\n",
       "    <tr>\n",
       "      <th>EvaLongoria</th>\n",
       "      <td>7048976</td>\n",
       "      <td>1</td>\n",
       "      <td>0</td>\n",
       "    </tr>\n",
       "    <tr>\n",
       "      <th>EW</th>\n",
       "      <td>6562964</td>\n",
       "      <td>3</td>\n",
       "      <td>2</td>\n",
       "    </tr>\n",
       "    <tr>\n",
       "      <th>the_hindu</th>\n",
       "      <td>6456788</td>\n",
       "      <td>5</td>\n",
       "      <td>5</td>\n",
       "    </tr>\n",
       "    <tr>\n",
       "      <th>SkyNews</th>\n",
       "      <td>6399075</td>\n",
       "      <td>1</td>\n",
       "      <td>0</td>\n",
       "    </tr>\n",
       "    <tr>\n",
       "      <th>tyleroakley</th>\n",
       "      <td>5695635</td>\n",
       "      <td>1</td>\n",
       "      <td>1</td>\n",
       "    </tr>\n",
       "    <tr>\n",
       "      <th>MTVNEWS</th>\n",
       "      <td>5072780</td>\n",
       "      <td>1</td>\n",
       "      <td>0</td>\n",
       "    </tr>\n",
       "    <tr>\n",
       "      <th>EconomicTimes</th>\n",
       "      <td>3730188</td>\n",
       "      <td>4</td>\n",
       "      <td>1</td>\n",
       "    </tr>\n",
       "    <tr>\n",
       "      <th>goodreads</th>\n",
       "      <td>3695495</td>\n",
       "      <td>1</td>\n",
       "      <td>0</td>\n",
       "    </tr>\n",
       "    <tr>\n",
       "      <th>AzmiShabana</th>\n",
       "      <td>3375957</td>\n",
       "      <td>2</td>\n",
       "      <td>2</td>\n",
       "    </tr>\n",
       "  </tbody>\n",
       "</table>\n",
       "</div>"
      ],
      "text/plain": [
       "               avg_followers_count  tweets_count  retweet\n",
       "handle                                                   \n",
       "CBSNews                    7733241             1        0\n",
       "EvaLongoria                7048976             1        0\n",
       "EW                         6562964             3        2\n",
       "the_hindu                  6456788             5        5\n",
       "SkyNews                    6399075             1        0\n",
       "tyleroakley                5695635             1        1\n",
       "MTVNEWS                    5072780             1        0\n",
       "EconomicTimes              3730188             4        1\n",
       "goodreads                  3695495             1        0\n",
       "AzmiShabana                3375957             2        2"
      ]
     },
     "execution_count": 30,
     "metadata": {},
     "output_type": "execute_result"
    }
   ],
   "source": [
    "# selecting the 10 accounts with most followers - (showing avg of followers counts over the scraping period)\n",
    "most_followed = df_raw_net.groupby('handle').agg({'followers_count': 'mean', 'tweet_id': 'count', 'retweet':'sum'}).sort_values('followers_count', ascending = False).head(10)\n",
    "most_followed = most_followed.rename(columns = {'followers_count': 'avg_followers_count', 'tweet_id' : 'tweets_count'})\n",
    "most_followed[['avg_followers_count','retweet']] = most_followed[['avg_followers_count','retweet']].astype(int)\n",
    "most_followed"
   ]
  },
  {
   "cell_type": "markdown",
   "metadata": {},
   "source": [
    "**Most Active accounts**."
   ]
  },
  {
   "cell_type": "markdown",
   "metadata": {},
   "source": [
    "To determine which accounts are most actively using the Netflix handle and hashtag, I will create a temporary dataframe named `most_active`. I will group the rows by handle, and calculate the tweet counts, retweets and average total followers (avg over the scraping period).\n",
    "Because each account have different numbers of followers, it might be interesting to see also a followers to tweet ratio (a tweet from a user account with a higher count of followers, will have a wider reach than one with a lower number of followers).\n",
    "Note: the `followers_to_tweet_ratio` is calculated using only the tweets in the dataset. Hence, these numbers would certainly be different if we were looking at all the tweets an account tweeted, not only those including our focus search terms."
   ]
  },
  {
   "cell_type": "code",
   "execution_count": 31,
   "metadata": {
    "scrolled": false
   },
   "outputs": [
    {
     "data": {
      "text/html": [
       "<div>\n",
       "<style scoped>\n",
       "    .dataframe tbody tr th:only-of-type {\n",
       "        vertical-align: middle;\n",
       "    }\n",
       "\n",
       "    .dataframe tbody tr th {\n",
       "        vertical-align: top;\n",
       "    }\n",
       "\n",
       "    .dataframe thead th {\n",
       "        text-align: right;\n",
       "    }\n",
       "</style>\n",
       "<table border=\"1\" class=\"dataframe\">\n",
       "  <thead>\n",
       "    <tr style=\"text-align: right;\">\n",
       "      <th></th>\n",
       "      <th>tweets_count</th>\n",
       "      <th>retweet</th>\n",
       "      <th>avg_followers_count</th>\n",
       "      <th>followers_to_tweet_ratio</th>\n",
       "    </tr>\n",
       "    <tr>\n",
       "      <th>handle</th>\n",
       "      <th></th>\n",
       "      <th></th>\n",
       "      <th></th>\n",
       "      <th></th>\n",
       "    </tr>\n",
       "  </thead>\n",
       "  <tbody>\n",
       "    <tr>\n",
       "      <th>pezoutlaw</th>\n",
       "      <td>352</td>\n",
       "      <td>136</td>\n",
       "      <td>13388</td>\n",
       "      <td>38.03</td>\n",
       "    </tr>\n",
       "    <tr>\n",
       "      <th>Kada_soulayman</th>\n",
       "      <td>330</td>\n",
       "      <td>0</td>\n",
       "      <td>154</td>\n",
       "      <td>0.47</td>\n",
       "    </tr>\n",
       "    <tr>\n",
       "      <th>AmazonRetweet</th>\n",
       "      <td>102</td>\n",
       "      <td>102</td>\n",
       "      <td>398</td>\n",
       "      <td>3.90</td>\n",
       "    </tr>\n",
       "    <tr>\n",
       "      <th>save_eyewitness</th>\n",
       "      <td>100</td>\n",
       "      <td>0</td>\n",
       "      <td>34</td>\n",
       "      <td>0.34</td>\n",
       "    </tr>\n",
       "    <tr>\n",
       "      <th>theversion</th>\n",
       "      <td>49</td>\n",
       "      <td>26</td>\n",
       "      <td>63388</td>\n",
       "      <td>1293.63</td>\n",
       "    </tr>\n",
       "    <tr>\n",
       "      <th>...</th>\n",
       "      <td>...</td>\n",
       "      <td>...</td>\n",
       "      <td>...</td>\n",
       "      <td>...</td>\n",
       "    </tr>\n",
       "    <tr>\n",
       "      <th>tpemberton</th>\n",
       "      <td>1</td>\n",
       "      <td>0</td>\n",
       "      <td>1318</td>\n",
       "      <td>1318.00</td>\n",
       "    </tr>\n",
       "    <tr>\n",
       "      <th>toydam17</th>\n",
       "      <td>1</td>\n",
       "      <td>1</td>\n",
       "      <td>1599</td>\n",
       "      <td>1599.00</td>\n",
       "    </tr>\n",
       "    <tr>\n",
       "      <th>toridanyale</th>\n",
       "      <td>1</td>\n",
       "      <td>1</td>\n",
       "      <td>573</td>\n",
       "      <td>573.00</td>\n",
       "    </tr>\n",
       "    <tr>\n",
       "      <th>torichimmychim</th>\n",
       "      <td>1</td>\n",
       "      <td>1</td>\n",
       "      <td>501</td>\n",
       "      <td>501.00</td>\n",
       "    </tr>\n",
       "    <tr>\n",
       "      <th>zzziiinnnggg</th>\n",
       "      <td>1</td>\n",
       "      <td>0</td>\n",
       "      <td>3076</td>\n",
       "      <td>3076.00</td>\n",
       "    </tr>\n",
       "  </tbody>\n",
       "</table>\n",
       "<p>40231 rows × 4 columns</p>\n",
       "</div>"
      ],
      "text/plain": [
       "                 tweets_count  retweet  avg_followers_count  \\\n",
       "handle                                                        \n",
       "pezoutlaw                 352      136                13388   \n",
       "Kada_soulayman            330        0                  154   \n",
       "AmazonRetweet             102      102                  398   \n",
       "save_eyewitness           100        0                   34   \n",
       "theversion                 49       26                63388   \n",
       "...                       ...      ...                  ...   \n",
       "tpemberton                  1        0                 1318   \n",
       "toydam17                    1        1                 1599   \n",
       "toridanyale                 1        1                  573   \n",
       "torichimmychim              1        1                  501   \n",
       "zzziiinnnggg                1        0                 3076   \n",
       "\n",
       "                 followers_to_tweet_ratio  \n",
       "handle                                     \n",
       "pezoutlaw                           38.03  \n",
       "Kada_soulayman                       0.47  \n",
       "AmazonRetweet                        3.90  \n",
       "save_eyewitness                      0.34  \n",
       "theversion                        1293.63  \n",
       "...                                   ...  \n",
       "tpemberton                        1318.00  \n",
       "toydam17                          1599.00  \n",
       "toridanyale                        573.00  \n",
       "torichimmychim                     501.00  \n",
       "zzziiinnnggg                      3076.00  \n",
       "\n",
       "[40231 rows x 4 columns]"
      ]
     },
     "execution_count": 31,
     "metadata": {},
     "output_type": "execute_result"
    }
   ],
   "source": [
    "# grouping accounts (handles) and calculating their tweets count, retweets and followers - (showing count of tweets over the scraping period)\n",
    "most_active = df_raw_net.groupby('handle').agg({'tweet_id': 'count', 'retweet': 'sum', 'followers_count': 'mean'}).sort_values('tweet_id', ascending = False)\n",
    "most_active = most_active.rename(columns = {'followers_count': 'avg_followers_count', 'tweet_id' : 'tweets_count'})\n",
    "most_active[['avg_followers_count','retweet']] = most_active[['avg_followers_count', 'retweet']].astype(int)\n",
    "most_active['followers_to_tweet_ratio'] = round(most_active['avg_followers_count'] / most_active['tweets_count'],2)\n",
    "most_active.sort_values(by = 'tweets_count', ascending = False)"
   ]
  },
  {
   "cell_type": "markdown",
   "metadata": {},
   "source": [
    "Some accounts have a very large number of tweets that include our search words. **@pezoutlaw** has tweeted 352 times which is over 30 tweets a day! Also 100 tweets seems a high number for the period considered. Let's have a look at these profiles.\n",
    "\n",
    "* [@pezoutlaw](https://twitter.com/pezoutlaw) - the tweets seem very repetitive and usually including a link to a blog. I might consider removing the tweets from this account for the topic analysis.\n",
    "\n",
    "* [@Kada_soulayman](https://twitter.com/Kada_soulayman) this account shows a very large number of tweets all with a very similar text. A 'timestamp' (i.e. It's : 2020-10-11T11:20:15.4149621Z ) and several hashtags, like #merrychristmas, #funny, # netflix, #giveaway, etc. It certainly does not seem that they are tweeting a text about a particular topic, or expressing ideas.\n",
    "\n",
    "* [@AmazonRetweet](https://twitter.com/AmazonRetweet) - as the name and the retweet count suggests, this account ahas 100% of retweets in our dataset. The account is also suspended as of today ( 2020-10-15 ).\n",
    "\n",
    "* [@save_eyewitness](https://twitter.com/save_eyewitness) - this account seems to be only posting tweets with messages related to requesting a new season of the crime thriller 'Eyewitness' (the second season was cancelled in 2017)."
   ]
  },
  {
   "cell_type": "markdown",
   "metadata": {},
   "source": [
    "We have seen that the 4 accounts with the most tweets might not be relevant for our analysis after all. \n",
    "\n",
    "They have a very high number of tweets but generally low counts of followers.\n",
    "\n",
    "Now, let's filter the list for those accounts that tweeted #netflix or @netflix at least 10 times over the data collection period, and have a `followers_to_tweet_ratio` of at least 500."
   ]
  },
  {
   "cell_type": "code",
   "execution_count": 32,
   "metadata": {},
   "outputs": [
    {
     "data": {
      "text/html": [
       "<div>\n",
       "<style scoped>\n",
       "    .dataframe tbody tr th:only-of-type {\n",
       "        vertical-align: middle;\n",
       "    }\n",
       "\n",
       "    .dataframe tbody tr th {\n",
       "        vertical-align: top;\n",
       "    }\n",
       "\n",
       "    .dataframe thead th {\n",
       "        text-align: right;\n",
       "    }\n",
       "</style>\n",
       "<table border=\"1\" class=\"dataframe\">\n",
       "  <thead>\n",
       "    <tr style=\"text-align: right;\">\n",
       "      <th></th>\n",
       "      <th>tweets_count</th>\n",
       "      <th>retweet</th>\n",
       "      <th>avg_followers_count</th>\n",
       "      <th>followers_to_tweet_ratio</th>\n",
       "    </tr>\n",
       "    <tr>\n",
       "      <th>handle</th>\n",
       "      <th></th>\n",
       "      <th></th>\n",
       "      <th></th>\n",
       "      <th></th>\n",
       "    </tr>\n",
       "  </thead>\n",
       "  <tbody>\n",
       "    <tr>\n",
       "      <th>theversion</th>\n",
       "      <td>49</td>\n",
       "      <td>26</td>\n",
       "      <td>63388</td>\n",
       "      <td>1293.63</td>\n",
       "    </tr>\n",
       "    <tr>\n",
       "      <th>bleedingcool</th>\n",
       "      <td>40</td>\n",
       "      <td>0</td>\n",
       "      <td>81065</td>\n",
       "      <td>2026.62</td>\n",
       "    </tr>\n",
       "    <tr>\n",
       "      <th>ComicBook</th>\n",
       "      <td>25</td>\n",
       "      <td>1</td>\n",
       "      <td>216646</td>\n",
       "      <td>8665.84</td>\n",
       "    </tr>\n",
       "    <tr>\n",
       "      <th>FilmCompanion</th>\n",
       "      <td>23</td>\n",
       "      <td>0</td>\n",
       "      <td>62915</td>\n",
       "      <td>2735.43</td>\n",
       "    </tr>\n",
       "    <tr>\n",
       "      <th>themoviewaffler</th>\n",
       "      <td>21</td>\n",
       "      <td>0</td>\n",
       "      <td>44574</td>\n",
       "      <td>2122.57</td>\n",
       "    </tr>\n",
       "    <tr>\n",
       "      <th>Binged_</th>\n",
       "      <td>19</td>\n",
       "      <td>0</td>\n",
       "      <td>17074</td>\n",
       "      <td>898.63</td>\n",
       "    </tr>\n",
       "    <tr>\n",
       "      <th>MaryLSchmidt</th>\n",
       "      <td>15</td>\n",
       "      <td>0</td>\n",
       "      <td>16942</td>\n",
       "      <td>1129.47</td>\n",
       "    </tr>\n",
       "    <tr>\n",
       "      <th>AuthorMichael57</th>\n",
       "      <td>15</td>\n",
       "      <td>15</td>\n",
       "      <td>7549</td>\n",
       "      <td>503.27</td>\n",
       "    </tr>\n",
       "    <tr>\n",
       "      <th>MalliardReport</th>\n",
       "      <td>13</td>\n",
       "      <td>13</td>\n",
       "      <td>81226</td>\n",
       "      <td>6248.15</td>\n",
       "    </tr>\n",
       "    <tr>\n",
       "      <th>iw_popular</th>\n",
       "      <td>13</td>\n",
       "      <td>0</td>\n",
       "      <td>8352</td>\n",
       "      <td>642.46</td>\n",
       "    </tr>\n",
       "    <tr>\n",
       "      <th>filmandtvnow</th>\n",
       "      <td>13</td>\n",
       "      <td>0</td>\n",
       "      <td>11175</td>\n",
       "      <td>859.62</td>\n",
       "    </tr>\n",
       "    <tr>\n",
       "      <th>AaronRFernandes</th>\n",
       "      <td>12</td>\n",
       "      <td>0</td>\n",
       "      <td>43996</td>\n",
       "      <td>3666.33</td>\n",
       "    </tr>\n",
       "    <tr>\n",
       "      <th>leeminho_2225</th>\n",
       "      <td>11</td>\n",
       "      <td>0</td>\n",
       "      <td>5582</td>\n",
       "      <td>507.45</td>\n",
       "    </tr>\n",
       "    <tr>\n",
       "      <th>StylistMagazine</th>\n",
       "      <td>11</td>\n",
       "      <td>0</td>\n",
       "      <td>676041</td>\n",
       "      <td>61458.27</td>\n",
       "    </tr>\n",
       "    <tr>\n",
       "      <th>lime_link</th>\n",
       "      <td>11</td>\n",
       "      <td>11</td>\n",
       "      <td>7529</td>\n",
       "      <td>684.45</td>\n",
       "    </tr>\n",
       "    <tr>\n",
       "      <th>techjunkiejh</th>\n",
       "      <td>10</td>\n",
       "      <td>0</td>\n",
       "      <td>28703</td>\n",
       "      <td>2870.30</td>\n",
       "    </tr>\n",
       "  </tbody>\n",
       "</table>\n",
       "</div>"
      ],
      "text/plain": [
       "                 tweets_count  retweet  avg_followers_count  \\\n",
       "handle                                                        \n",
       "theversion                 49       26                63388   \n",
       "bleedingcool               40        0                81065   \n",
       "ComicBook                  25        1               216646   \n",
       "FilmCompanion              23        0                62915   \n",
       "themoviewaffler            21        0                44574   \n",
       "Binged_                    19        0                17074   \n",
       "MaryLSchmidt               15        0                16942   \n",
       "AuthorMichael57            15       15                 7549   \n",
       "MalliardReport             13       13                81226   \n",
       "iw_popular                 13        0                 8352   \n",
       "filmandtvnow               13        0                11175   \n",
       "AaronRFernandes            12        0                43996   \n",
       "leeminho_2225              11        0                 5582   \n",
       "StylistMagazine            11        0               676041   \n",
       "lime_link                  11       11                 7529   \n",
       "techjunkiejh               10        0                28703   \n",
       "\n",
       "                 followers_to_tweet_ratio  \n",
       "handle                                     \n",
       "theversion                        1293.63  \n",
       "bleedingcool                      2026.62  \n",
       "ComicBook                         8665.84  \n",
       "FilmCompanion                     2735.43  \n",
       "themoviewaffler                   2122.57  \n",
       "Binged_                            898.63  \n",
       "MaryLSchmidt                      1129.47  \n",
       "AuthorMichael57                    503.27  \n",
       "MalliardReport                    6248.15  \n",
       "iw_popular                         642.46  \n",
       "filmandtvnow                       859.62  \n",
       "AaronRFernandes                   3666.33  \n",
       "leeminho_2225                      507.45  \n",
       "StylistMagazine                  61458.27  \n",
       "lime_link                          684.45  \n",
       "techjunkiejh                      2870.30  "
      ]
     },
     "execution_count": 32,
     "metadata": {},
     "output_type": "execute_result"
    }
   ],
   "source": [
    "most_active[(most_active['followers_to_tweet_ratio']>=500) & (most_active['tweets_count']>=10)] #.sort_values(by ='followers_to_tweet_ratio', ascending = False)"
   ]
  },
  {
   "cell_type": "markdown",
   "metadata": {},
   "source": [
    "Let's have a look at some of these accounts:\n",
    "\n",
    "*  [@theversion](https://twitter.com/theversion) - a streaming content guide based out of UK.\n",
    "\n",
    "* [@bleedingcool](https://twitter.com/bleedingcool) - an online comics, movies and news content blog.\n",
    "\n",
    "In general, the accounts in the list above, seem to be online magazines/guides, with a few authors (@MaryLSchmidt and @AuthorMichael57, husband and wife), and some very active individual users (@AaronRFernandes).\n"
   ]
  },
  {
   "cell_type": "markdown",
   "metadata": {},
   "source": [
    "It appears then from a first look at the two selections above, that accounts with very frequent tweets including the hashtag and handle Netflix,  and a low number of followers, tend to be spam.\n",
    "I don't have necessary information to setup a filter for these accounts, and it is not in the scope of the current analysis, but certainly something to keep in mind for the future."
   ]
  },
  {
   "cell_type": "markdown",
   "metadata": {},
   "source": [
    "At this point, because we have seen that the tweets from pezoutlaw, Kada_soulayman, AmazonRetweet, save_eyewitness, would have no value for our analysis, I will drop their rows.\n",
    "\n",
    "Note that they account for 884 tweets, therefore is less than 0.02 % of our total dataset, so I don't expect them to have a large impact on our results either way."
   ]
  },
  {
   "cell_type": "code",
   "execution_count": 33,
   "metadata": {},
   "outputs": [
    {
     "data": {
      "text/plain": [
       "(51705, 14)"
      ]
     },
     "execution_count": 33,
     "metadata": {},
     "output_type": "execute_result"
    }
   ],
   "source": [
    "df_raw_net.shape"
   ]
  },
  {
   "cell_type": "code",
   "execution_count": 34,
   "metadata": {},
   "outputs": [],
   "source": [
    "ind_names = df_raw_net[(df_raw_net['handle'] == 'pezoutlaw') | (df_raw_net['handle'] == 'Kada_soulayman') |\n",
    "           (df_raw_net['handle'] == 'AmazonRetweet') | (df_raw_net['handle'] == 'save_eyewitness')].index"
   ]
  },
  {
   "cell_type": "code",
   "execution_count": 35,
   "metadata": {},
   "outputs": [],
   "source": [
    "df_raw_net.drop(ind_names , axis = 0, inplace=True)"
   ]
  },
  {
   "cell_type": "code",
   "execution_count": 36,
   "metadata": {},
   "outputs": [
    {
     "data": {
      "text/plain": [
       "(50821, 14)"
      ]
     },
     "execution_count": 36,
     "metadata": {},
     "output_type": "execute_result"
    }
   ],
   "source": [
    "df_raw_net.shape"
   ]
  },
  {
   "cell_type": "markdown",
   "metadata": {},
   "source": [
    "**Unique accounts**."
   ]
  },
  {
   "cell_type": "code",
   "execution_count": 37,
   "metadata": {},
   "outputs": [
    {
     "name": "stdout",
     "output_type": "stream",
     "text": [
      "79.15% of the users in the tweets dataset are unique.\n"
     ]
    }
   ],
   "source": [
    "unique_accounts = round(df_raw_net['handle'].unique().shape[0] / df_raw_net.shape[0]*100,2)\n",
    "\n",
    "print(f'{unique_accounts}% of the users in the tweets dataset are unique.')"
   ]
  },
  {
   "cell_type": "markdown",
   "metadata": {},
   "source": [
    "Over 79% of unique users. Although I will not run deeper analysis on them, this sounds promising, as a very low ratio of unique users, over 50,000+ tweets, would raise high suspicions for bots activity."
   ]
  },
  {
   "cell_type": "markdown",
   "metadata": {},
   "source": [
    "### Entities: symbols"
   ]
  },
  {
   "cell_type": "markdown",
   "metadata": {},
   "source": [
    "**Symbols**."
   ]
  },
  {
   "cell_type": "markdown",
   "metadata": {},
   "source": [
    "It appears that in a large number of rows, we don't have any symbol (i.e. the content is '[ ]')."
   ]
  },
  {
   "cell_type": "code",
   "execution_count": 38,
   "metadata": {},
   "outputs": [
    {
     "data": {
      "text/plain": [
       "59"
      ]
     },
     "execution_count": 38,
     "metadata": {},
     "output_type": "execute_result"
    }
   ],
   "source": [
    "# counting rows that have content in the column 'symbol'\n",
    "n_rows_symbols = df_raw_net[(df_raw_net['symbols']!= '[]')].shape[0]\n",
    "n_rows_symbols"
   ]
  },
  {
   "cell_type": "code",
   "execution_count": 39,
   "metadata": {},
   "outputs": [
    {
     "name": "stdout",
     "output_type": "stream",
     "text": [
      "The amount of tweets containing symbols is 0.12%\n"
     ]
    }
   ],
   "source": [
    "print(f'The amount of tweets containing symbols is {round(n_rows_symbols /df_raw_net.shape[0]*100,2)}%')"
   ]
  },
  {
   "cell_type": "markdown",
   "metadata": {},
   "source": [
    "Only 59 out of 50,000+. A very low fraction. In addition to that, the symbol 'NFLX', which is the stock symbol of NETFLIX Inc, seems to be the most frequent."
   ]
  },
  {
   "cell_type": "code",
   "execution_count": 40,
   "metadata": {},
   "outputs": [
    {
     "data": {
      "text/html": [
       "<div>\n",
       "<style scoped>\n",
       "    .dataframe tbody tr th:only-of-type {\n",
       "        vertical-align: middle;\n",
       "    }\n",
       "\n",
       "    .dataframe tbody tr th {\n",
       "        vertical-align: top;\n",
       "    }\n",
       "\n",
       "    .dataframe thead th {\n",
       "        text-align: right;\n",
       "    }\n",
       "</style>\n",
       "<table border=\"1\" class=\"dataframe\">\n",
       "  <thead>\n",
       "    <tr style=\"text-align: right;\">\n",
       "      <th></th>\n",
       "      <th>created_at</th>\n",
       "      <th>followers_count</th>\n",
       "      <th>friends_count</th>\n",
       "      <th>handle</th>\n",
       "      <th>hashtags</th>\n",
       "      <th>retweet</th>\n",
       "      <th>symbols</th>\n",
       "      <th>tweet</th>\n",
       "      <th>tweet_id</th>\n",
       "      <th>user_location</th>\n",
       "      <th>user_mentions</th>\n",
       "      <th>created_date</th>\n",
       "      <th>created_hour_of_day</th>\n",
       "      <th>created_day_week</th>\n",
       "    </tr>\n",
       "  </thead>\n",
       "  <tbody>\n",
       "    <tr>\n",
       "      <th>751</th>\n",
       "      <td>2020-09-26 18:02:53+00:00</td>\n",
       "      <td>95</td>\n",
       "      <td>289</td>\n",
       "      <td>YulinFx</td>\n",
       "      <td>[{'text': 'Netflix', 'indices': [157, 165]}, {...</td>\n",
       "      <td>0</td>\n",
       "      <td>[{'text': 'NFLX', 'indices': [37, 42]}]</td>\n",
       "      <td>@bro_robz @LoriGreiner @ABCSharkTank $NFLX ral...</td>\n",
       "      <td>1309916365105573888</td>\n",
       "      <td>Austria(EU), Asia</td>\n",
       "      <td>[{'screen_name': 'bro_robz', 'name': 'Robz 🇲🇾🇯...</td>\n",
       "      <td>2020-09-26</td>\n",
       "      <td>18</td>\n",
       "      <td>5</td>\n",
       "    </tr>\n",
       "    <tr>\n",
       "      <th>10222</th>\n",
       "      <td>2020-09-27 20:48:54+00:00</td>\n",
       "      <td>47434</td>\n",
       "      <td>17</td>\n",
       "      <td>techeblog</td>\n",
       "      <td>[{'text': 'ResidentEvil', 'indices': [0, 13]},...</td>\n",
       "      <td>0</td>\n",
       "      <td>[{'text': 'NFLX', 'indices': [74, 79]}]</td>\n",
       "      <td>#ResidentEvil is getting its very own CG #Netf...</td>\n",
       "      <td>1310320535109120000</td>\n",
       "      <td>Los Angeles</td>\n",
       "      <td>[]</td>\n",
       "      <td>2020-09-27</td>\n",
       "      <td>20</td>\n",
       "      <td>6</td>\n",
       "    </tr>\n",
       "    <tr>\n",
       "      <th>10322</th>\n",
       "      <td>2020-09-27 21:01:59+00:00</td>\n",
       "      <td>183</td>\n",
       "      <td>1402</td>\n",
       "      <td>ImJayRodriguez6</td>\n",
       "      <td>[{'text': 'ResidentEvil', 'indices': [15, 28]}...</td>\n",
       "      <td>1</td>\n",
       "      <td>[{'text': 'NFLX', 'indices': [89, 94]}]</td>\n",
       "      <td>#ResidentEvil is getting its very own CG #Netf...</td>\n",
       "      <td>1310323824542572288</td>\n",
       "      <td>Orlando, FL</td>\n",
       "      <td>[{'screen_name': 'techeblog', 'name': 'TechEBl...</td>\n",
       "      <td>2020-09-27</td>\n",
       "      <td>21</td>\n",
       "      <td>6</td>\n",
       "    </tr>\n",
       "    <tr>\n",
       "      <th>10324</th>\n",
       "      <td>2020-09-27 21:00:48+00:00</td>\n",
       "      <td>0</td>\n",
       "      <td>13</td>\n",
       "      <td>ewwdadwaddw</td>\n",
       "      <td>[{'text': 'ResidentEvil', 'indices': [15, 28]}...</td>\n",
       "      <td>1</td>\n",
       "      <td>[{'text': 'NFLX', 'indices': [89, 94]}]</td>\n",
       "      <td>#ResidentEvil is getting its very own CG #Netf...</td>\n",
       "      <td>1310323527636209664</td>\n",
       "      <td>NaN</td>\n",
       "      <td>[{'screen_name': 'techeblog', 'name': 'TechEBl...</td>\n",
       "      <td>2020-09-27</td>\n",
       "      <td>21</td>\n",
       "      <td>6</td>\n",
       "    </tr>\n",
       "    <tr>\n",
       "      <th>10447</th>\n",
       "      <td>2020-09-27 21:00:48+00:00</td>\n",
       "      <td>0</td>\n",
       "      <td>14</td>\n",
       "      <td>ewwdadwaddw</td>\n",
       "      <td>[{'text': 'ResidentEvil', 'indices': [15, 28]}...</td>\n",
       "      <td>1</td>\n",
       "      <td>[{'text': 'NFLX', 'indices': [89, 94]}]</td>\n",
       "      <td>#ResidentEvil is getting its very own CG #Netf...</td>\n",
       "      <td>1310323527636209664</td>\n",
       "      <td>NaN</td>\n",
       "      <td>[{'screen_name': 'techeblog', 'name': 'TechEBl...</td>\n",
       "      <td>2020-09-27</td>\n",
       "      <td>21</td>\n",
       "      <td>6</td>\n",
       "    </tr>\n",
       "  </tbody>\n",
       "</table>\n",
       "</div>"
      ],
      "text/plain": [
       "                     created_at  followers_count  friends_count  \\\n",
       "751   2020-09-26 18:02:53+00:00               95            289   \n",
       "10222 2020-09-27 20:48:54+00:00            47434             17   \n",
       "10322 2020-09-27 21:01:59+00:00              183           1402   \n",
       "10324 2020-09-27 21:00:48+00:00                0             13   \n",
       "10447 2020-09-27 21:00:48+00:00                0             14   \n",
       "\n",
       "                handle                                           hashtags  \\\n",
       "751            YulinFx  [{'text': 'Netflix', 'indices': [157, 165]}, {...   \n",
       "10222        techeblog  [{'text': 'ResidentEvil', 'indices': [0, 13]},...   \n",
       "10322  ImJayRodriguez6  [{'text': 'ResidentEvil', 'indices': [15, 28]}...   \n",
       "10324      ewwdadwaddw  [{'text': 'ResidentEvil', 'indices': [15, 28]}...   \n",
       "10447      ewwdadwaddw  [{'text': 'ResidentEvil', 'indices': [15, 28]}...   \n",
       "\n",
       "       retweet                                  symbols  \\\n",
       "751          0  [{'text': 'NFLX', 'indices': [37, 42]}]   \n",
       "10222        0  [{'text': 'NFLX', 'indices': [74, 79]}]   \n",
       "10322        1  [{'text': 'NFLX', 'indices': [89, 94]}]   \n",
       "10324        1  [{'text': 'NFLX', 'indices': [89, 94]}]   \n",
       "10447        1  [{'text': 'NFLX', 'indices': [89, 94]}]   \n",
       "\n",
       "                                                   tweet             tweet_id  \\\n",
       "751    @bro_robz @LoriGreiner @ABCSharkTank $NFLX ral...  1309916365105573888   \n",
       "10222  #ResidentEvil is getting its very own CG #Netf...  1310320535109120000   \n",
       "10322  #ResidentEvil is getting its very own CG #Netf...  1310323824542572288   \n",
       "10324  #ResidentEvil is getting its very own CG #Netf...  1310323527636209664   \n",
       "10447  #ResidentEvil is getting its very own CG #Netf...  1310323527636209664   \n",
       "\n",
       "           user_location                                      user_mentions  \\\n",
       "751    Austria(EU), Asia  [{'screen_name': 'bro_robz', 'name': 'Robz 🇲🇾🇯...   \n",
       "10222        Los Angeles                                                 []   \n",
       "10322        Orlando, FL  [{'screen_name': 'techeblog', 'name': 'TechEBl...   \n",
       "10324                NaN  [{'screen_name': 'techeblog', 'name': 'TechEBl...   \n",
       "10447                NaN  [{'screen_name': 'techeblog', 'name': 'TechEBl...   \n",
       "\n",
       "      created_date created_hour_of_day  created_day_week  \n",
       "751     2020-09-26                  18                 5  \n",
       "10222   2020-09-27                  20                 6  \n",
       "10322   2020-09-27                  21                 6  \n",
       "10324   2020-09-27                  21                 6  \n",
       "10447   2020-09-27                  21                 6  "
      ]
     },
     "execution_count": 40,
     "metadata": {},
     "output_type": "execute_result"
    }
   ],
   "source": [
    "df_raw_net[(df_raw_net['symbols']!= '[]')].head(5)"
   ]
  },
  {
   "cell_type": "markdown",
   "metadata": {},
   "source": [
    "Let's count the rows where 'NFLX' does not appear:"
   ]
  },
  {
   "cell_type": "code",
   "execution_count": 41,
   "metadata": {},
   "outputs": [
    {
     "data": {
      "text/plain": [
       "19"
      ]
     },
     "execution_count": 41,
     "metadata": {},
     "output_type": "execute_result"
    }
   ],
   "source": [
    "no_NFLX = df_raw_net[(df_raw_net['symbols']!= '[]') & (~df_raw_net['symbols'].str.contains('NFLX'))].shape[0]\n",
    "no_NFLX"
   ]
  },
  {
   "cell_type": "code",
   "execution_count": 42,
   "metadata": {},
   "outputs": [
    {
     "name": "stdout",
     "output_type": "stream",
     "text": [
      "The amount of tweets not containing the NFLX symbols is 0.04%\n"
     ]
    }
   ],
   "source": [
    "print(f'The amount of tweets not containing the NFLX symbols is {round(no_NFLX /df_raw_net.shape[0]*100,2)}%')"
   ]
  },
  {
   "cell_type": "markdown",
   "metadata": {},
   "source": [
    "Being such a small percentage of values, it will not be relevant for our analysis. I will therefore drop the column."
   ]
  },
  {
   "cell_type": "code",
   "execution_count": 43,
   "metadata": {},
   "outputs": [],
   "source": [
    "df_raw_net.drop(columns = 'symbols', axis = 1, inplace = True)"
   ]
  },
  {
   "cell_type": "code",
   "execution_count": 44,
   "metadata": {},
   "outputs": [
    {
     "data": {
      "text/html": [
       "<div>\n",
       "<style scoped>\n",
       "    .dataframe tbody tr th:only-of-type {\n",
       "        vertical-align: middle;\n",
       "    }\n",
       "\n",
       "    .dataframe tbody tr th {\n",
       "        vertical-align: top;\n",
       "    }\n",
       "\n",
       "    .dataframe thead th {\n",
       "        text-align: right;\n",
       "    }\n",
       "</style>\n",
       "<table border=\"1\" class=\"dataframe\">\n",
       "  <thead>\n",
       "    <tr style=\"text-align: right;\">\n",
       "      <th></th>\n",
       "      <th>created_at</th>\n",
       "      <th>followers_count</th>\n",
       "      <th>friends_count</th>\n",
       "      <th>handle</th>\n",
       "      <th>hashtags</th>\n",
       "      <th>retweet</th>\n",
       "      <th>tweet</th>\n",
       "      <th>tweet_id</th>\n",
       "      <th>user_location</th>\n",
       "      <th>user_mentions</th>\n",
       "      <th>created_date</th>\n",
       "      <th>created_hour_of_day</th>\n",
       "      <th>created_day_week</th>\n",
       "    </tr>\n",
       "  </thead>\n",
       "  <tbody>\n",
       "    <tr>\n",
       "      <th>0</th>\n",
       "      <td>2020-09-26 15:01:29+00:00</td>\n",
       "      <td>327</td>\n",
       "      <td>570</td>\n",
       "      <td>kaseydrzazga</td>\n",
       "      <td>[]</td>\n",
       "      <td>0</td>\n",
       "      <td>@Spacefunmars @RyanPGoldchains Ahem, @netflix ...</td>\n",
       "      <td>1309870714116337664</td>\n",
       "      <td>Cleveland</td>\n",
       "      <td>[{'screen_name': 'Spacefunmars', 'name': 'The ...</td>\n",
       "      <td>2020-09-26</td>\n",
       "      <td>15</td>\n",
       "      <td>5</td>\n",
       "    </tr>\n",
       "    <tr>\n",
       "      <th>1</th>\n",
       "      <td>2020-09-26 15:01:28+00:00</td>\n",
       "      <td>496</td>\n",
       "      <td>294</td>\n",
       "      <td>PlainPotatoTay</td>\n",
       "      <td>[]</td>\n",
       "      <td>0</td>\n",
       "      <td>@charityfaith @netflix @HunterMarch You gotta ...</td>\n",
       "      <td>1309870713441005568</td>\n",
       "      <td>ALL BLACK LIVES MATTER ✊🏾</td>\n",
       "      <td>[{'screen_name': 'charityfaith', 'name': 'Char...</td>\n",
       "      <td>2020-09-26</td>\n",
       "      <td>15</td>\n",
       "      <td>5</td>\n",
       "    </tr>\n",
       "    <tr>\n",
       "      <th>2</th>\n",
       "      <td>2020-09-26 15:01:28+00:00</td>\n",
       "      <td>3</td>\n",
       "      <td>13</td>\n",
       "      <td>dsLdHzRDPbkII4p</td>\n",
       "      <td>[]</td>\n",
       "      <td>1</td>\n",
       "      <td>Episodes 13 &amp;amp; 14 of \"ARASHI's Diary -Voyag...</td>\n",
       "      <td>1309870711943487488</td>\n",
       "      <td>NaN</td>\n",
       "      <td>[{'screen_name': 'arashi5official', 'name': 'A...</td>\n",
       "      <td>2020-09-26</td>\n",
       "      <td>15</td>\n",
       "      <td>5</td>\n",
       "    </tr>\n",
       "  </tbody>\n",
       "</table>\n",
       "</div>"
      ],
      "text/plain": [
       "                 created_at  followers_count  friends_count           handle  \\\n",
       "0 2020-09-26 15:01:29+00:00              327            570     kaseydrzazga   \n",
       "1 2020-09-26 15:01:28+00:00              496            294   PlainPotatoTay   \n",
       "2 2020-09-26 15:01:28+00:00                3             13  dsLdHzRDPbkII4p   \n",
       "\n",
       "  hashtags  retweet                                              tweet  \\\n",
       "0       []        0  @Spacefunmars @RyanPGoldchains Ahem, @netflix ...   \n",
       "1       []        0  @charityfaith @netflix @HunterMarch You gotta ...   \n",
       "2       []        1  Episodes 13 &amp; 14 of \"ARASHI's Diary -Voyag...   \n",
       "\n",
       "              tweet_id               user_location  \\\n",
       "0  1309870714116337664                   Cleveland   \n",
       "1  1309870713441005568  ALL BLACK LIVES MATTER ✊🏾    \n",
       "2  1309870711943487488                         NaN   \n",
       "\n",
       "                                       user_mentions created_date  \\\n",
       "0  [{'screen_name': 'Spacefunmars', 'name': 'The ...   2020-09-26   \n",
       "1  [{'screen_name': 'charityfaith', 'name': 'Char...   2020-09-26   \n",
       "2  [{'screen_name': 'arashi5official', 'name': 'A...   2020-09-26   \n",
       "\n",
       "  created_hour_of_day  created_day_week  \n",
       "0                  15                 5  \n",
       "1                  15                 5  \n",
       "2                  15                 5  "
      ]
     },
     "execution_count": 44,
     "metadata": {},
     "output_type": "execute_result"
    }
   ],
   "source": [
    "df_raw_net.head(3)"
   ]
  },
  {
   "cell_type": "markdown",
   "metadata": {},
   "source": [
    "### RETWEET"
   ]
  },
  {
   "cell_type": "markdown",
   "metadata": {},
   "source": [
    "**Checking percentage of `retweet`**."
   ]
  },
  {
   "cell_type": "code",
   "execution_count": 45,
   "metadata": {},
   "outputs": [
    {
     "name": "stdout",
     "output_type": "stream",
     "text": [
      "The percentage of retweets is 57.66%\n"
     ]
    }
   ],
   "source": [
    "print(f'The percentage of retweets is {round(df_raw_net[\"retweet\"].mean()*100,2)}%')"
   ]
  },
  {
   "cell_type": "markdown",
   "metadata": {},
   "source": [
    "Over 57% of our rows are related to retweets. While 'retweeting' can have good marketing reasons (discussing them is not in the scope of this project), for our analysis a high number of retweet can bring some challenges.\n",
    "\n",
    "Before fitting most NLP ML model, we will have to perform a vectorization of all the text data (in our case the text of the tweets). Thus, as the exact same text of a given tweet (document) gets repeated multiple times, the ML model will interpret the words (tokens) as being more frequent and relevant than they actually are. I won't go too much in detail at this stage, but we will get back at this later during the analysis."
   ]
  },
  {
   "cell_type": "markdown",
   "metadata": {},
   "source": [
    "Let's have a quick look at the metrics of the retweets."
   ]
  },
  {
   "cell_type": "code",
   "execution_count": 46,
   "metadata": {},
   "outputs": [
    {
     "data": {
      "text/html": [
       "<div>\n",
       "<style scoped>\n",
       "    .dataframe tbody tr th:only-of-type {\n",
       "        vertical-align: middle;\n",
       "    }\n",
       "\n",
       "    .dataframe tbody tr th {\n",
       "        vertical-align: top;\n",
       "    }\n",
       "\n",
       "    .dataframe thead th {\n",
       "        text-align: right;\n",
       "    }\n",
       "</style>\n",
       "<table border=\"1\" class=\"dataframe\">\n",
       "  <thead>\n",
       "    <tr style=\"text-align: right;\">\n",
       "      <th></th>\n",
       "      <th>retweet_count</th>\n",
       "    </tr>\n",
       "    <tr>\n",
       "      <th>tweet</th>\n",
       "      <th></th>\n",
       "    </tr>\n",
       "  </thead>\n",
       "  <tbody>\n",
       "    <tr>\n",
       "      <th>Episodes 13 &amp;amp; 14 of \"ARASHI's Diary -Voyage-\" are out now!  Enjoy these next chapters in ARASHI's diary!  Only on @netflix \\n#嵐 #ARASHI https://t.co/2qPByTneRE</th>\n",
       "      <td>1675</td>\n",
       "    </tr>\n",
       "    <tr>\n",
       "      <th>Thank you again to all our amazing fans for making #Ratched the most watched television show on #Netflix WORLDWIDE for one week and counting! #ratchedweekend 💚🍑 🌎🌍🌏 https://t.co/bPCjEBMaEm</th>\n",
       "      <td>639</td>\n",
       "    </tr>\n",
       "    <tr>\n",
       "      <th>Today in Hawkins... https://t.co/WU1I4p5cZK</th>\n",
       "      <td>622</td>\n",
       "    </tr>\n",
       "    <tr>\n",
       "      <th>The Mother of the Blues is coming to @Netflix in Ma Rainey’s Black Bottom, based on the play by August Wilson and directed by George C. Wolfe. Watch it December 18. @MaRaineyFilm \\nhttps://t.co/QD0QzO5gFi https://t.co/sMHd18ovbE</th>\n",
       "      <td>602</td>\n",
       "    </tr>\n",
       "    <tr>\n",
       "      <th>Mildred THEE Ratched https://t.co/7elsfGWwaL</th>\n",
       "      <td>601</td>\n",
       "    </tr>\n",
       "    <tr>\n",
       "      <th>Viola Davis and Chadwick Boseman star in Ma Rainey's Black Bottom, a new film based on August Wilson’s award-winning play from director George C. Wolfe and producer Denzel Washington. \\n\\n@MaRaineyFilm premieres December 18. https://t.co/ErhrQAW4nU</th>\n",
       "      <td>459</td>\n",
       "    </tr>\n",
       "    <tr>\n",
       "      <th>The authorities will sort out of @realDonaldTrump taxes. Also note: In 2018, @netflix reported $856 million in income; paid no federal taxes; and inked a deal with @BarackObama and @MichelleObama reportedly worth $50 million. Was that a taxpayer subsidy?</th>\n",
       "      <td>395</td>\n",
       "    </tr>\n",
       "    <tr>\n",
       "      <th>Report:   #Netflix  loses 2.5 million subscribers because of movie #Cuties - Netflix Political Cuties- Throwback #BenGarrison cartoon for your #sundayvibes https://t.co/hxQ6yotFte https://t.co/J8tw5O9kkc</th>\n",
       "      <td>312</td>\n",
       "    </tr>\n",
       "    <tr>\n",
       "      <th>And obviously Adora said \"YES\" so...💍♥\\n\\nHope you like,\\nVago\\n#SheraandthePrincessesofPower #spopfanart #SPop #shera #catra #catradoda #catradorafanart #adora #netflix #dreamworks #drawing #SheRaMovie #sherafanart #fanart #wedding #LGBTQ #vago_art #digitaldrawing #webcomic https://t.co/CGOqjRi3L7</th>\n",
       "      <td>306</td>\n",
       "    </tr>\n",
       "    <tr>\n",
       "      <th>.@BLACKPINK also tease that fans will likely get to hear tracks that didn't make the cut for #TheAlbum being recorded in the studio during the upcoming @Netflix documentary in our @amazonmusic @twitch interview 🔜 https://t.co/A2M1x10LQ7</th>\n",
       "      <td>287</td>\n",
       "    </tr>\n",
       "  </tbody>\n",
       "</table>\n",
       "</div>"
      ],
      "text/plain": [
       "                                                    retweet_count\n",
       "tweet                                                            \n",
       "Episodes 13 &amp; 14 of \"ARASHI's Diary -Voyage...           1675\n",
       "Thank you again to all our amazing fans for mak...            639\n",
       "Today in Hawkins... https://t.co/WU1I4p5cZK                   622\n",
       "The Mother of the Blues is coming to @Netflix i...            602\n",
       "Mildred THEE Ratched https://t.co/7elsfGWwaL                  601\n",
       "Viola Davis and Chadwick Boseman star in Ma Rai...            459\n",
       "The authorities will sort out of @realDonaldTru...            395\n",
       "Report:   #Netflix  loses 2.5 million subscribe...            312\n",
       "And obviously Adora said \"YES\" so...💍♥\\n\\nHope ...            306\n",
       ".@BLACKPINK also tease that fans will likely ge...            287"
      ]
     },
     "execution_count": 46,
     "metadata": {},
     "output_type": "execute_result"
    }
   ],
   "source": [
    "# selecting tweets and their retweet sums in a temporary dataframe - excluding retweets with count\n",
    "\n",
    "# group by same tweet text and copy in new temporary df\n",
    "df_retweet = df_raw_net.groupby('tweet').agg({'retweet': 'sum'}).sort_values(by='retweet', ascending = False)\n",
    "\n",
    "# remove the rows that are NOT retweets (retweet sum < 1)\n",
    "df_retweet = df_retweet[df_retweet['retweet']>=1]\n",
    "\n",
    "\n",
    "# rename retweet count column for more understandable visualization\n",
    "df_retweet.rename(columns ={'retweet': 'retweet_count'}, inplace = True)\n",
    "df_retweet['retweet_count'] = df_retweet['retweet_count'].astype('int16')\n",
    "df_retweet.head(10)"
   ]
  },
  {
   "cell_type": "markdown",
   "metadata": {},
   "source": [
    "We can see that the post with the highest retweet count, has a value of 1,675 - but that number drops quickly.\n",
    "Let's check other metrics before further considerations."
   ]
  },
  {
   "cell_type": "code",
   "execution_count": 47,
   "metadata": {},
   "outputs": [
    {
     "data": {
      "text/plain": [
       "(6447, 1)"
      ]
     },
     "execution_count": 47,
     "metadata": {},
     "output_type": "execute_result"
    }
   ],
   "source": [
    "df_retweet.shape"
   ]
  },
  {
   "cell_type": "code",
   "execution_count": 48,
   "metadata": {},
   "outputs": [
    {
     "data": {
      "text/html": [
       "<div>\n",
       "<style scoped>\n",
       "    .dataframe tbody tr th:only-of-type {\n",
       "        vertical-align: middle;\n",
       "    }\n",
       "\n",
       "    .dataframe tbody tr th {\n",
       "        vertical-align: top;\n",
       "    }\n",
       "\n",
       "    .dataframe thead th {\n",
       "        text-align: right;\n",
       "    }\n",
       "</style>\n",
       "<table border=\"1\" class=\"dataframe\">\n",
       "  <thead>\n",
       "    <tr style=\"text-align: right;\">\n",
       "      <th></th>\n",
       "      <th>count</th>\n",
       "      <th>mean</th>\n",
       "      <th>std</th>\n",
       "      <th>min</th>\n",
       "      <th>25%</th>\n",
       "      <th>50%</th>\n",
       "      <th>75%</th>\n",
       "      <th>max</th>\n",
       "    </tr>\n",
       "  </thead>\n",
       "  <tbody>\n",
       "    <tr>\n",
       "      <th>retweet_count</th>\n",
       "      <td>6447.0</td>\n",
       "      <td>4.54537</td>\n",
       "      <td>30.065784</td>\n",
       "      <td>1.0</td>\n",
       "      <td>1.0</td>\n",
       "      <td>1.0</td>\n",
       "      <td>2.0</td>\n",
       "      <td>1675.0</td>\n",
       "    </tr>\n",
       "  </tbody>\n",
       "</table>\n",
       "</div>"
      ],
      "text/plain": [
       "                count     mean        std  min  25%  50%  75%     max\n",
       "retweet_count  6447.0  4.54537  30.065784  1.0  1.0  1.0  2.0  1675.0"
      ]
     },
     "execution_count": 48,
     "metadata": {},
     "output_type": "execute_result"
    }
   ],
   "source": [
    "df_retweet.describe().T"
   ]
  },
  {
   "cell_type": "code",
   "execution_count": 49,
   "metadata": {},
   "outputs": [
    {
     "name": "stdout",
     "output_type": "stream",
     "text": [
      "80% of the retweets have a retweet count of 3 or less\n",
      "90% of the retweets have a retweet count of 6 or less\n",
      "95% of the retweets have a retweet count of 11 or less\n"
     ]
    }
   ],
   "source": [
    "quant_95 = int(df_retweet.quantile(0.95))\n",
    "quant_90 = int(df_retweet.quantile(0.90))\n",
    "quant_80 = int(df_retweet.quantile(0.80))\n",
    "\n",
    "print(f'80% of the retweets have a retweet count of {quant_80} or less')\n",
    "print(f'90% of the retweets have a retweet count of {quant_90} or less')\n",
    "print(f'95% of the retweets have a retweet count of {quant_95} or less')"
   ]
  },
  {
   "cell_type": "markdown",
   "metadata": {},
   "source": [
    "* We have seen that 6,447 unique tweets (text) are retweets and they account for ~57% (29,304) of the rows in our dataset.\n",
    "* 95% of the retweet appear 11 time or less in our dataset and at least 50% of the retweet appear only once.\n",
    "\n",
    "NOTE: if a retweet has a count of 1, it might be either that we have a single tweet with a single retweet, or only the retweet. \n",
    "The latter might be the case in which only the retweet has been collected, but not the original tweet.\n",
    "For example, we have already calculated that ~57% of our rows are retweet (29,304). But some of them might appear only once in our dataset."
   ]
  },
  {
   "cell_type": "code",
   "execution_count": 50,
   "metadata": {},
   "outputs": [
    {
     "data": {
      "text/plain": [
       "1    29304\n",
       "0    21517\n",
       "Name: retweet, dtype: int64"
      ]
     },
     "execution_count": 50,
     "metadata": {},
     "output_type": "execute_result"
    }
   ],
   "source": [
    "# check total numbers of tweets (0) and retweets (1)\n",
    "df_raw_net['retweet'].value_counts()"
   ]
  },
  {
   "cell_type": "code",
   "execution_count": 51,
   "metadata": {},
   "outputs": [
    {
     "data": {
      "text/plain": [
       "25230"
      ]
     },
     "execution_count": 51,
     "metadata": {},
     "output_type": "execute_result"
    }
   ],
   "source": [
    "# check total number of unique tweets in our dataset\n",
    "df_raw_net['tweet'].nunique()"
   ]
  },
  {
   "cell_type": "markdown",
   "metadata": {},
   "source": [
    "As the counts above are showing, we have more than 3,500 unique tweets that are actually retweets."
   ]
  },
  {
   "cell_type": "markdown",
   "metadata": {},
   "source": [
    "**Keeping or dropping retweets?**\n",
    "\n",
    "A this point, it might be worth considering that, if a user is retweeting one particular tweet, they might share a similar idea that was expressed in the original tweet. Therefore, if we are analyzing the sentiment of users towards the brand, it might be worth considering not disposing of the retweet (those that contain text already present in the dataset).\n",
    "But it is also true that retweeting takes a smaller 'effort' than tweeting.\n",
    "\n",
    "Being still at a relatively green stage of my Data Science journey, I will have a more conservative approach and perform the analysis without duplicated text documents (tweets).\n",
    "But please, send me a message via linkedin ( [click here](https://www.linkedin.com/in/alex-mazzarella-yvr/) ) with your comments/opinion on it.\n",
    "\n"
   ]
  },
  {
   "cell_type": "markdown",
   "metadata": {},
   "source": [
    "**Dropping duplicated tweets**"
   ]
  },
  {
   "cell_type": "markdown",
   "metadata": {},
   "source": [
    "First, I will drop the columns used for the date - time analysis above, as they are not required anymore for the next steps of our analysis. I will keep the original `created_at`."
   ]
  },
  {
   "cell_type": "code",
   "execution_count": 52,
   "metadata": {
    "scrolled": true
   },
   "outputs": [],
   "source": [
    "df_raw_net = df_raw_net.drop(['created_date', 'created_hour_of_day', 'created_day_week'], axis = 1)"
   ]
  },
  {
   "cell_type": "code",
   "execution_count": 53,
   "metadata": {},
   "outputs": [],
   "source": [
    "df_net = df_raw_net.copy()"
   ]
  },
  {
   "cell_type": "code",
   "execution_count": 54,
   "metadata": {},
   "outputs": [
    {
     "data": {
      "text/plain": [
       "(50821, 10)"
      ]
     },
     "execution_count": 54,
     "metadata": {},
     "output_type": "execute_result"
    }
   ],
   "source": [
    "df_net.shape"
   ]
  },
  {
   "cell_type": "code",
   "execution_count": 55,
   "metadata": {},
   "outputs": [],
   "source": [
    "# removing all duplicated tweets -  - NETFLIX\n",
    "df_net = df_net[df_net['tweet'].duplicated() == False]"
   ]
  },
  {
   "cell_type": "code",
   "execution_count": 56,
   "metadata": {},
   "outputs": [],
   "source": [
    "# resetting index count\n",
    "df_net.reset_index(drop = True, inplace = True)"
   ]
  },
  {
   "cell_type": "code",
   "execution_count": 57,
   "metadata": {},
   "outputs": [
    {
     "data": {
      "text/plain": [
       "0"
      ]
     },
     "execution_count": 57,
     "metadata": {},
     "output_type": "execute_result"
    }
   ],
   "source": [
    "#checking that we have no more duplicated tweets\n",
    "df_net[df_net['tweet'].duplicated() == True].shape[0]"
   ]
  },
  {
   "cell_type": "code",
   "execution_count": 58,
   "metadata": {},
   "outputs": [
    {
     "data": {
      "text/plain": [
       "(25230, 10)"
      ]
     },
     "execution_count": 58,
     "metadata": {},
     "output_type": "execute_result"
    }
   ],
   "source": [
    "# checking new size of dataset with no duplicated tweets\n",
    "df_net.shape"
   ]
  },
  {
   "cell_type": "markdown",
   "metadata": {},
   "source": [
    "One additional check before we move forward.\n",
    "\n",
    "The text of a retweet, is composed of the original tweet text, with the string 'RT ' added at the start of it.\n",
    "For example, the retweet of 'This was the best movie ever' would be 'RT This was the best movie ever'.\n",
    "This is done indeed to distinguish the retweets from tweets.\n",
    "\n",
    "To be in line with what we discussed so far, when we will do our next analysis we don't want to have two almost exactly equal documents, only differing in the initial 'RT '.\n",
    "\n",
    "So let's check that this is not happening."
   ]
  },
  {
   "cell_type": "code",
   "execution_count": 59,
   "metadata": {},
   "outputs": [
    {
     "data": {
      "text/html": [
       "<div>\n",
       "<style scoped>\n",
       "    .dataframe tbody tr th:only-of-type {\n",
       "        vertical-align: middle;\n",
       "    }\n",
       "\n",
       "    .dataframe tbody tr th {\n",
       "        vertical-align: top;\n",
       "    }\n",
       "\n",
       "    .dataframe thead th {\n",
       "        text-align: right;\n",
       "    }\n",
       "</style>\n",
       "<table border=\"1\" class=\"dataframe\">\n",
       "  <thead>\n",
       "    <tr style=\"text-align: right;\">\n",
       "      <th></th>\n",
       "      <th>created_at</th>\n",
       "      <th>followers_count</th>\n",
       "      <th>friends_count</th>\n",
       "      <th>handle</th>\n",
       "      <th>hashtags</th>\n",
       "      <th>retweet</th>\n",
       "      <th>tweet</th>\n",
       "      <th>tweet_id</th>\n",
       "      <th>user_location</th>\n",
       "      <th>user_mentions</th>\n",
       "    </tr>\n",
       "  </thead>\n",
       "  <tbody>\n",
       "  </tbody>\n",
       "</table>\n",
       "</div>"
      ],
      "text/plain": [
       "Empty DataFrame\n",
       "Columns: [created_at, followers_count, friends_count, handle, hashtags, retweet, tweet, tweet_id, user_location, user_mentions]\n",
       "Index: []"
      ]
     },
     "execution_count": 59,
     "metadata": {},
     "output_type": "execute_result"
    }
   ],
   "source": [
    "# checking if there is any document that has a duplicated with the 'RT ' stamp at the begin\n",
    "df_net[df_net['tweet'] == ('RT ' + df_net['tweet'])]"
   ]
  },
  {
   "cell_type": "markdown",
   "metadata": {},
   "source": [
    "No lines returned, seems like we can move forward."
   ]
  },
  {
   "cell_type": "markdown",
   "metadata": {},
   "source": [
    "Before saving the clean dataset to csv, I will do one last check at the location columns, to see if after removing all the rows above, the situation has improved."
   ]
  },
  {
   "cell_type": "code",
   "execution_count": 60,
   "metadata": {},
   "outputs": [
    {
     "data": {
      "text/plain": [
       "5278                            Nigeria\n",
       "13307                     International\n",
       "16196                               NaN\n",
       "16502                               NaN\n",
       "11095                               NaN\n",
       "16990                               NaN\n",
       "14673                   London, England\n",
       "23670                               NaN\n",
       "22003              Northen Westeros....\n",
       "5743     Raccoon City-before the traged\n",
       "12904                               NaN\n",
       "742                    Indianapolis, IN\n",
       "14132            Former Chequersolvacia\n",
       "8396                         Manchester\n",
       "13627                   California, USA\n",
       "14651                               NaN\n",
       "11239                        Temple, TX\n",
       "24351                       los angeles\n",
       "1809                      Los Gatos, CA\n",
       "2531                          Cebu City\n",
       "Name: user_location, dtype: object"
      ]
     },
     "execution_count": 60,
     "metadata": {},
     "output_type": "execute_result"
    }
   ],
   "source": [
    "# sampling 20 rows for location - try running this cell multiple times to observe different results\n",
    "df_net['user_location'].sample(20)"
   ]
  },
  {
   "cell_type": "markdown",
   "metadata": {},
   "source": [
    "The quality of content for this column has not improved, therefore I go ahead and drop it."
   ]
  },
  {
   "cell_type": "code",
   "execution_count": 61,
   "metadata": {
    "scrolled": true
   },
   "outputs": [],
   "source": [
    "# dropping location column from new \"clean\" dataset\n",
    "df_net.drop( 'user_location', axis = 1, inplace = True)"
   ]
  },
  {
   "cell_type": "code",
   "execution_count": 62,
   "metadata": {},
   "outputs": [
    {
     "data": {
      "text/plain": [
       "(25230, 9)"
      ]
     },
     "execution_count": 62,
     "metadata": {},
     "output_type": "execute_result"
    }
   ],
   "source": [
    "df_net.shape"
   ]
  },
  {
   "cell_type": "code",
   "execution_count": 63,
   "metadata": {},
   "outputs": [],
   "source": [
    "# saving to csv a copy of the dataset with retweets\n",
    "df_net.to_csv('master_tweets/clean_netflix/clean_netflix.csv', index = False)"
   ]
  },
  {
   "cell_type": "markdown",
   "metadata": {},
   "source": [
    "I will also save a copy of the dataset with retweets for future additional exploration."
   ]
  },
  {
   "cell_type": "code",
   "execution_count": 64,
   "metadata": {},
   "outputs": [],
   "source": [
    "# dropping location column from dataset (with retweets)\n",
    "df_raw_net.drop( 'user_location', axis = 1, inplace = True)"
   ]
  },
  {
   "cell_type": "code",
   "execution_count": 65,
   "metadata": {},
   "outputs": [
    {
     "data": {
      "text/plain": [
       "(50821, 9)"
      ]
     },
     "execution_count": 65,
     "metadata": {},
     "output_type": "execute_result"
    }
   ],
   "source": [
    "df_raw_net.shape"
   ]
  },
  {
   "cell_type": "code",
   "execution_count": 66,
   "metadata": {},
   "outputs": [],
   "source": [
    "# saving to csv a copy of the dataset with retweets\n",
    "df_raw_net.to_csv('master_tweets/clean_netflix/w_retweet_netflix.csv', index = False)"
   ]
  },
  {
   "cell_type": "markdown",
   "metadata": {},
   "source": [
    "In the next notebooks, we will proceed with sentiment analysis and topic axtraction."
   ]
  }
 ],
 "metadata": {
  "kernelspec": {
   "display_name": "capstone_env",
   "language": "python",
   "name": "capstone_env"
  },
  "language_info": {
   "codemirror_mode": {
    "name": "ipython",
    "version": 3
   },
   "file_extension": ".py",
   "mimetype": "text/x-python",
   "name": "python",
   "nbconvert_exporter": "python",
   "pygments_lexer": "ipython3",
   "version": "3.8.3"
  }
 },
 "nbformat": 4,
 "nbformat_minor": 4
}
